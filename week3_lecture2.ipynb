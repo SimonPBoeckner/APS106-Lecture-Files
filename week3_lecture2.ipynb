{
 "cells": [
  {
   "cell_type": "markdown",
   "metadata": {},
   "source": [
    "# APS106 Lecture Notes - Week 3, Lecture 2\n",
    "\n",
    "## Lectures This Week\n",
    "\n",
    "\n",
    "| Lecture | Topics |\n",
    "| --- | --- |\n",
    "| 3.1 | Booleans, conditionals, and if-statements  |\n",
    "| **3.2** | **Advanced comparisons, else & elif, nested ifs** |\n",
    "| 3.3 | Engineering design problem! Rock Paper Scissors Lizard Spock! |\n",
    "\n",
    "### Lecture Structure\n",
    "1. [String Comparisons](#section1)\n",
    "2. [More on if Statements](#section2)\n",
    "3. [Nested ifs](#section3)"
   ]
  },
  {
   "cell_type": "markdown",
   "metadata": {},
   "source": [
    "<a id='section1'></a>\n",
    "## 1. String Comparisons\n",
    "\n",
    "The equality and inequality operators can be applied to strings."
   ]
  },
  {
   "cell_type": "code",
   "execution_count": null,
   "metadata": {},
   "outputs": [],
   "source": [
    "print('a' == 'a')"
   ]
  },
  {
   "cell_type": "code",
   "execution_count": null,
   "metadata": {},
   "outputs": [],
   "source": [
    "print('ant' == 'ace')"
   ]
  },
  {
   "cell_type": "code",
   "execution_count": null,
   "metadata": {},
   "outputs": [],
   "source": [
    "print('a' == 'b')"
   ]
  },
  {
   "cell_type": "code",
   "execution_count": null,
   "metadata": {},
   "outputs": [],
   "source": [
    "print('a' != 'b')"
   ]
  },
  {
   "cell_type": "markdown",
   "metadata": {},
   "source": [
    "We can compare two strings for their dictionary order, comparing them letter-by-letter:"
   ]
  },
  {
   "cell_type": "code",
   "execution_count": null,
   "metadata": {},
   "outputs": [],
   "source": [
    "print('abracadabra' < 'ace')"
   ]
  },
  {
   "cell_type": "code",
   "execution_count": null,
   "metadata": {},
   "outputs": [],
   "source": [
    "print('abracadabra' > 'ace')"
   ]
  },
  {
   "cell_type": "code",
   "execution_count": null,
   "metadata": {},
   "outputs": [],
   "source": [
    "print('a' <= 'a')"
   ]
  },
  {
   "cell_type": "code",
   "execution_count": null,
   "metadata": {},
   "outputs": [],
   "source": [
    "print('a' < 'B')"
   ]
  },
  {
   "cell_type": "markdown",
   "metadata": {},
   "source": [
    "Each character in a string is actually represented by integers following the ASCII encoding (http://simple.wikipedia.org/wiki/ASCII). Therefore when you compare two strings, what you are really doing is comparing their numerical representations. \n",
    "\n",
    "For example in ASCII the characters ‘a’ and ‘w’ are encoded as 97 and 119 respectively. The comparison 'a' > 'w' would translates to 97 > 119 to give the result False.\n",
    "\n",
    "Capitalization matters, and capital letters are less than lowercase letters.\n"
   ]
  },
  {
   "cell_type": "code",
   "execution_count": null,
   "metadata": {},
   "outputs": [],
   "source": [
    "print('a' == 'A')"
   ]
  },
  {
   "cell_type": "code",
   "execution_count": null,
   "metadata": {},
   "outputs": [],
   "source": [
    "print('a' < 'A')"
   ]
  },
  {
   "cell_type": "markdown",
   "metadata": {},
   "source": [
    "Every character can be compared:"
   ]
  },
  {
   "cell_type": "code",
   "execution_count": null,
   "metadata": {},
   "outputs": [],
   "source": [
    "print(',' < '3')"
   ]
  },
  {
   "cell_type": "markdown",
   "metadata": {},
   "source": [
    "We can't compare values of two different types."
   ]
  },
  {
   "cell_type": "code",
   "execution_count": null,
   "metadata": {
    "scrolled": true
   },
   "outputs": [],
   "source": [
    "print('s' <= 3)"
   ]
  },
  {
   "cell_type": "markdown",
   "metadata": {},
   "source": [
    "To obtain the ASCII (integer) representation, we can use the built-in function `ord()`."
   ]
  },
  {
   "cell_type": "code",
   "execution_count": null,
   "metadata": {},
   "outputs": [],
   "source": [
    "print(ord(\"a\"))"
   ]
  },
  {
   "cell_type": "code",
   "execution_count": null,
   "metadata": {},
   "outputs": [],
   "source": [
    "print(ord(\"A\"))"
   ]
  },
  {
   "cell_type": "markdown",
   "metadata": {},
   "source": [
    "The built-in function `ord` is expecting a character, and will produce an error if used on a string of more than one character."
   ]
  },
  {
   "cell_type": "code",
   "execution_count": null,
   "metadata": {},
   "outputs": [],
   "source": [
    "print(ord(\"ab\")) #ord expects 1 single character"
   ]
  },
  {
   "cell_type": "markdown",
   "metadata": {},
   "source": [
    "To convert from the ASCII integer representation back to a string, we can use the built-in function `chr()`."
   ]
  },
  {
   "cell_type": "code",
   "execution_count": null,
   "metadata": {},
   "outputs": [],
   "source": [
    "print(chr(97))"
   ]
  },
  {
   "cell_type": "code",
   "execution_count": null,
   "metadata": {},
   "outputs": [],
   "source": [
    "print(chr(65))"
   ]
  },
  {
   "cell_type": "code",
   "execution_count": null,
   "metadata": {},
   "outputs": [],
   "source": [
    "print(chr(90))"
   ]
  },
  {
   "cell_type": "markdown",
   "metadata": {},
   "source": [
    "'ord' and 'chr' are, of course, inverses of each other (i.e., like addition and subtraction)."
   ]
  },
  {
   "cell_type": "code",
   "execution_count": null,
   "metadata": {},
   "outputs": [],
   "source": [
    "print(ord(chr(90)))"
   ]
  },
  {
   "cell_type": "code",
   "execution_count": null,
   "metadata": {
    "scrolled": true
   },
   "outputs": [],
   "source": [
    "print(chr(ord(\"A\")))"
   ]
  },
  {
   "cell_type": "markdown",
   "metadata": {},
   "source": [
    "**Testing For Substrings**\n",
    "\n",
    "The operator `in` checks whether a string appears anywhere inside another one (that is, whether a string is a substring of another)."
   ]
  },
  {
   "cell_type": "code",
   "execution_count": null,
   "metadata": {},
   "outputs": [],
   "source": [
    "print('c' in 'aeiou')"
   ]
  },
  {
   "cell_type": "code",
   "execution_count": null,
   "metadata": {},
   "outputs": [],
   "source": [
    "print('abra' > 'abracadabra')"
   ]
  },
  {
   "cell_type": "code",
   "execution_count": null,
   "metadata": {},
   "outputs": [],
   "source": [
    "print('zoo' in 'ooze')"
   ]
  },
  {
   "cell_type": "markdown",
   "metadata": {},
   "source": [
    "## Break-'in' Session\n",
    "\n",
    "Let's figure this out together.\n",
    "\n",
    "Someone has a lot of tweets and you want to check if the tweets contain a specific trend or hashtag.  \n",
    "\n",
    "Write a function that takes in one tweet as a string and returns True if the tweet contains '#aps106', and returns False otherwise.\n",
    "\n",
    "### What tools do we have in our toolbox that might be useful?"
   ]
  },
  {
   "cell_type": "code",
   "execution_count": null,
   "metadata": {},
   "outputs": [],
   "source": [
    "#Tools we can potentially use:\n",
    "\n",
    "\n",
    "def hashtag_checker(tweet_post):\n",
    "    '''\n",
    "    (str)-> bool\n",
    "    \n",
    "    The function takes in a tweet in the form of a string.\n",
    "    The function returns True if #aps106 is in the tweet.\n",
    "    The function returns False otherwise.\n",
    "    '''\n",
    "    \n",
    "    ...\n",
    "    \n",
    "    "
   ]
  },
  {
   "cell_type": "markdown",
   "metadata": {},
   "source": [
    "### Summary\n",
    "\n",
    "| Description | Operator | Example | Result |\n",
    "|-------------|----------|---------|--------|\n",
    "| equality | == | 'cat' == 'cat' ||\n",
    "| inequality | != | 'cat' != 'Cat' ||\n",
    "| less than | < | 'A' < 'a\" ||\n",
    "| greater than | > | 'a' > 'A' ||\n",
    "| less than or equal | <= | 'a' <= 'A'||\n",
    "| greater than or equal | >= | 'a' >= 'A' ||\n",
    "| contains | in | 'cad' in 'abracadabra' | |\n",
    "| length of string | len() | len(\"abc\") | |"
   ]
  },
  {
   "cell_type": "markdown",
   "metadata": {},
   "source": [
    "<a id='section2'></a>\n",
    "## 2. More on if Statements\n",
    "\n",
    "The most general form for if-statements is:\n",
    "```\n",
    "if expression1:    \n",
    "    body1\n",
    "\n",
    "elif expression2:      \n",
    "    body2\n",
    "\n",
    "elif expression3:      \n",
    "    body3\n",
    "\n",
    "\t.\n",
    "\t.\n",
    "\t.\n",
    "\n",
    "else:                \n",
    "    bodyN\n",
    "```\n"
   ]
  },
  {
   "cell_type": "markdown",
   "metadata": {},
   "source": [
    "`elif` stands for \"else if\", so this forms a chain of conditions. To execute an if-statement:\n",
    "- evaluate each expression in order from top to bottom\n",
    "- If an expression produces `True`, execute the body of that clause and then skip the rest.\n",
    "- If there is an `else`, and none of the expressions produce `True`, then execute the body of the else.\n",
    "\n",
    "**Example**"
   ]
  },
  {
   "cell_type": "code",
   "execution_count": null,
   "metadata": {},
   "outputs": [],
   "source": [
    "people = 30\n",
    "cars = 40\n",
    "trucks = 0\n",
    "\n",
    "if cars > people:\n",
    "    print(\"We should take the car.\")\n",
    "elif cars < people:\n",
    "    print(\"We should not take the car.\")\n",
    "else:\n",
    "    print(\"We can't decide.\")\n"
   ]
  },
  {
   "cell_type": "markdown",
   "metadata": {},
   "source": [
    "**`if-elif` vs. `if-if`**\n",
    "\n",
    "An `if` statement with an `elif` clause is a single statement. The expressions are evaluated from top to bottom until one produces True or until there are no expressions left to evaluate. When an expression produces True, the body associated with it is executed and then the whole statement exits. Any subsequent expressions are ignored. For example:"
   ]
  },
  {
   "cell_type": "code",
   "execution_count": null,
   "metadata": {
    "scrolled": true
   },
   "outputs": [],
   "source": [
    "grade1 = 70\n",
    "grade2 = 80\n",
    "\n",
    "if grade1 >= 50:\n",
    "    print('You passed a course 1 with grade: ', grade1)\n",
    "elif grade2 >= 50:\n",
    "    print('You passed a course 2 with grade: ', grade2)\n",
    "    \n",
    "#If both grade checks matter, this may not be what you wanted to do here."
   ]
  },
  {
   "cell_type": "markdown",
   "metadata": {},
   "source": [
    "The if statement condition `grade1 >= 50` evaluates to True, so the body associated with the if is executed and then the if exits. The elif condition is not even evaluated in this case.\n",
    "\n",
    "It is possible, of course, for if statements to appear one after another in a program. Although they may be adjacent to each other, they are completely independent of each other and it is possible for the body of each if to be executed. For example:"
   ]
  },
  {
   "cell_type": "code",
   "execution_count": null,
   "metadata": {},
   "outputs": [],
   "source": [
    "grade1 = 70\n",
    "grade2 = 80\n",
    "\n",
    "if grade1 >= 50:\n",
    "    print('You passed a course1 with grade: ', grade1)\n",
    "if grade2 >= 50:\n",
    "    print('You passed a course2 with grade: ', grade2)"
   ]
  },
  {
   "cell_type": "markdown",
   "metadata": {},
   "source": [
    "In the program above, the condition associated with the first if statement `grade1 >= 50` produces True, so the body associated with it is executed. The condition associated with the second if statement `grade2 >= 50` also produces True, so the body associated with it is also executed."
   ]
  },
  {
   "cell_type": "code",
   "execution_count": null,
   "metadata": {
    "scrolled": true
   },
   "outputs": [],
   "source": [
    "final_grade = 95\n",
    "\n",
    "if final_grade > 90:\n",
    "    print('A+')\n",
    "if final_grade > 80:\n",
    "    print('A')\n",
    "if final_grade > 70:\n",
    "    print('B')\n",
    "if final_grade > 60:\n",
    "    print('C')\n",
    "if final_grade >= 50:\n",
    "    print('D')\n",
    "if final_grade < 50:\n",
    "    print('You failed!')"
   ]
  },
  {
   "cell_type": "code",
   "execution_count": null,
   "metadata": {},
   "outputs": [],
   "source": [
    "final_grade = 95\n",
    "\n",
    "if final_grade > 90:\n",
    "    acorn_grade = 'A+'\n",
    "if final_grade > 80:\n",
    "    acorn_grade = 'A'\n",
    "if final_grade > 70:\n",
    "    acorn_grade = 'B'\n",
    "if final_grade > 60:\n",
    "    acorn_grade = 'C'\n",
    "if final_grade >= 50:\n",
    "    acorn_grade = 'D'\n",
    "if final_grade < 50:\n",
    "    acorn_grade = 'F'\n",
    "    \n",
    "print(acorn_grade)"
   ]
  },
  {
   "cell_type": "markdown",
   "metadata": {},
   "source": [
    "That clearly doesn't do a good job telling us our final grade.  Let's try again with a better structure:\n",
    "\n",
    "## Breakout Session\n",
    "\n",
    "Fix the code from above so it makes sense logically!  It should only print the letter grade associated with that mark.  You may copy the code from above if it speeds up your coding."
   ]
  },
  {
   "cell_type": "code",
   "execution_count": null,
   "metadata": {},
   "outputs": [],
   "source": [
    "final_grade = 95\n",
    "\n",
    "# write the correct logic for determining a letter grade below:\n",
    "\n",
    "if final_grade > 90:\n",
    "    print('A+')\n",
    "if final_grade > 80:\n",
    "    print('A')\n",
    "if final_grade > 70:\n",
    "    print('B')\n",
    "if final_grade > 60:\n",
    "    print('C')\n",
    "if final_grade >= 50:\n",
    "    print('D')\n",
    "else:\n",
    "    print('You failed!')\n",
    "    "
   ]
  },
  {
   "cell_type": "markdown",
   "metadata": {},
   "source": [
    "That looks better! But how about if there's weird inputs? Sometimes you need to help manage typos or silly user input:"
   ]
  },
  {
   "cell_type": "code",
   "execution_count": null,
   "metadata": {},
   "outputs": [],
   "source": [
    "final_grade =  #what if they accidentally type 900 instead of 90?\n",
    "\n",
    "#if (final_grade >= 90) and (final_grade <= 100):\n",
    "#    print('A+')\n",
    "\n",
    "if 100 >= final_grade >= 90:  #In Python, can use this notation to check a range\n",
    "    print('A+')\n",
    "elif 90 > final_grade >= 80:\n",
    "    print('A')\n",
    "elif 80 > final_grade >= 70:\n",
    "    print('B')\n",
    "elif 70 > final_grade >= 60:\n",
    "    print('C')\n",
    "elif 60 > final_grade >= 50:\n",
    "    print('D')\n",
    "elif 0 <= final_grade < 50:\n",
    "    print('You failed!')\n",
    "else:\n",
    "    print('Incorrect input')"
   ]
  },
  {
   "cell_type": "markdown",
   "metadata": {},
   "source": [
    "**A Note on functions: Sometimes No if Required**\n",
    "\n",
    "It is common for new programmers to write code like the following:"
   ]
  },
  {
   "cell_type": "code",
   "execution_count": null,
   "metadata": {},
   "outputs": [],
   "source": [
    "def is_even(num):\n",
    "    if num % 2 == 0:\n",
    "        return True\n",
    "    else:\n",
    "        return False"
   ]
  },
  {
   "cell_type": "markdown",
   "metadata": {},
   "source": [
    "This works, but is stylistically questionable. It's also more typing and reading than is necessary!\n",
    "\n",
    "`num % 2 == 0` produces True or False, so that expression can be used with the return statement. This function does **exactly** the same thing as the one above."
   ]
  },
  {
   "cell_type": "code",
   "execution_count": null,
   "metadata": {},
   "outputs": [],
   "source": [
    "def is_even(num):\n",
    "    return num % 2 == 0"
   ]
  },
  {
   "cell_type": "markdown",
   "metadata": {},
   "source": [
    "<a id='section3'></a>\n",
    "## 3. Nested ifs\n",
    "\n",
    "It is possible to place an if statement within the body of another if statement. For example:"
   ]
  },
  {
   "cell_type": "code",
   "execution_count": null,
   "metadata": {},
   "outputs": [],
   "source": [
    "precipitation = True\n",
    "temperature = -5\n",
    "\n",
    "if precipitation:\n",
    "    if temperature > 0:\n",
    "        print('Bring your umbrella!')\n",
    "    else:\n",
    "        print('Wear your snow boots and winter coat!')   "
   ]
  },
  {
   "cell_type": "markdown",
   "metadata": {},
   "source": [
    "The message 'Bring your umbrella!' is printed only when both of the if statement conditions are True. The message 'Wear your snow boots and winter coat!' is printed only when the outer if condition is True, but the inner if condition is False. \n",
    "\n",
    "The following is equivalent to the code above:"
   ]
  },
  {
   "cell_type": "code",
   "execution_count": null,
   "metadata": {},
   "outputs": [],
   "source": [
    "if precipitation and temperature > 0:\n",
    "    print('Bring your umbrella')\n",
    "elif precipitation:\n",
    "    print('Wear your snow boots and winter coat!')\n",
    "    "
   ]
  },
  {
   "cell_type": "markdown",
   "metadata": {},
   "source": [
    "Building off our final_grade example, sometimes we want to protect against completely incorrect inputs.  This is especially important when dealing with user inputs!!!  Sometimes users don't know what type you're expecting, other times they are intentionally trying to break your code."
   ]
  },
  {
   "cell_type": "code",
   "execution_count": null,
   "metadata": {
    "scrolled": true
   },
   "outputs": [],
   "source": [
    "final_grade = 'NOMNOMNOM' #a string will crash our program\n",
    "\n",
    "if 100 >= final_grade >= 90:\n",
    "    print('A+')\n",
    "elif 90 > final_grade >= 80:\n",
    "    print('A')\n",
    "elif 80 > final_grade >= 70:\n",
    "    print('B')\n",
    "elif 70 > final_grade >= 60:\n",
    "    print('C')\n",
    "elif 60 > final_grade >= 50:\n",
    "    print('D')\n",
    "elif 0 <= final_grade < 50:\n",
    "    print('You failed!')\n",
    "else:\n",
    "    print('Incorrect input')"
   ]
  },
  {
   "cell_type": "markdown",
   "metadata": {},
   "source": [
    "Trying that again... With a new nested if statement"
   ]
  },
  {
   "cell_type": "code",
   "execution_count": null,
   "metadata": {},
   "outputs": [],
   "source": [
    "#remember our type function?\n",
    "\n",
    "print(type(final_grade))\n",
    "print(type(95))"
   ]
  },
  {
   "cell_type": "code",
   "execution_count": null,
   "metadata": {},
   "outputs": [],
   "source": [
    "final_grade = 'NOMNOMNOM' \n",
    "\n",
    "if (type(final_grade)==int) or (type(final_grade)==float):  #see everything starting to come together?\n",
    "    if 100 >= final_grade >= 90:\n",
    "        print('A+')\n",
    "    elif 90 > final_grade >= 80:\n",
    "        print('A')\n",
    "    elif 80 > final_grade >= 70:\n",
    "        print('B')\n",
    "    elif 70 > final_grade >= 60:\n",
    "        print('C')\n",
    "    elif 60 > final_grade >= 50:\n",
    "        print('D')\n",
    "    elif 0 <= final_grade < 50:\n",
    "        print('You failed!')\n",
    "    else:\n",
    "        print('Typo, your number was less than 0 or greater than 100') #what cases will this catch?\n",
    "        \n",
    "else: #else statement isn't necessary, but in this case we can provide a helpful message back to the user\n",
    "    print('Input not a an integer or float, please try again')"
   ]
  },
  {
   "cell_type": "markdown",
   "metadata": {},
   "source": [
    "**Story Example**"
   ]
  },
  {
   "cell_type": "code",
   "execution_count": null,
   "metadata": {},
   "outputs": [],
   "source": [
    "print (\"You enter a dark room with two doors.  Do you go through door #1 or door #2?\")\n",
    "\n",
    "door = input(\"> \")\n",
    "\n",
    "if door == \"1\":\n",
    "    print (\"There's a giant bear here eating a cheese cake.  What do you do?\")\n",
    "    print (\"1. Take the cake.\")\n",
    "    print (\"2. Scream at the bear.\")\n",
    "    print (\"3. Play dead.\")\n",
    "\n",
    "    bear = input(\"> \")\n",
    "\n",
    "    if bear == \"1\":\n",
    "        print (\"The bear eats you.  Game Over!\")\n",
    "    elif bear == \"2\":\n",
    "        print (\"It's a Grizzly bear! The bear eats you. Game Over!\")\n",
    "    else:\n",
    "        print (\"The bear smells you and runs away. Good Job!\")\n",
    "\n",
    "elif door == \"2\":\n",
    "    print (\"You see a hall full of treasure. What do you do?\")\n",
    "    print (\"1. Take as much treasure as you can.\")\n",
    "    print (\"2. Take one gold coin and run.\")\n",
    "    print (\"3. Walk through and don't take anything.\")\n",
    "\n",
    "    treasure = input(\"> \")\n",
    "\n",
    "    if treasure == \"1\" or treasure == \"2\":\n",
    "        print (\"A dragon wakes up and burns you to a crisp.  Game Over!\")\n",
    "    else:\n",
    "        print (\"You survive to live another day.  Good job!\")\n",
    "\n",
    "else:\n",
    "    print (\"You stumble around and fall into a deep well. Game Over!\")\n",
    "\n",
    "    \n",
    "    \n",
    "    \n",
    "    \n",
    "    \n",
    "    \n",
    "    \n",
    "    \n",
    "    \n",
    "    \n",
    "    \n",
    "    \n",
    "\n",
    "    \n",
    "    \n",
    "    \n",
    "    \n",
    "    \n",
    "    \n",
    "    \n",
    "    \n",
    "    "
   ]
  },
  {
   "cell_type": "markdown",
   "metadata": {},
   "source": [
    "<div class=\"alert alert-block alert-info\">\n",
    "<big><b>This Lecture</b></big>\n",
    "<ul>  \n",
    " <li>string comparision, ord(), and chr(), testing for substrings</li>  \n",
    "    <li>if-elif-else</li>\n",
    "    <li>nested if statements</li>\n",
    "</ul>  \n",
    "</div>"
   ]
  }
 ],
 "metadata": {
  "kernelspec": {
   "display_name": "Python 3 (ipykernel)",
   "language": "python",
   "name": "python3"
  },
  "language_info": {
   "codemirror_mode": {
    "name": "ipython",
    "version": 3
   },
   "file_extension": ".py",
   "mimetype": "text/x-python",
   "name": "python",
   "nbconvert_exporter": "python",
   "pygments_lexer": "ipython3",
   "version": "3.10.9"
  }
 },
 "nbformat": 4,
 "nbformat_minor": 1
}
