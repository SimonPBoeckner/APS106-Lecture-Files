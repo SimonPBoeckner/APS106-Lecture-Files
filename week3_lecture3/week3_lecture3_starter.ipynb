{
 "cells": [
  {
   "cell_type": "markdown",
   "metadata": {
    "id": "TshI8YqhTx9L"
   },
   "source": [
    "# APS106 Lecture Notes - Week 3, Design Problem\n",
    "## Design Problem 2: Rock, paper, scissors, lizard, Spock.\n",
    "\n",
    "### Lecture Structure\n",
    "\n",
    "1. [Engineering Design Process](#section1)\n",
    "    - [Steps in Engineering Design Process](#section1a)\n",
    "    - [Breakout Session I: Coffee Break in the Early Morning Class ☕](#section1b)\n",
    "\n",
    "2. [Design Problem](#section2)\n",
    "      - [Problem Background](#section2a)\n",
    "      - [Define the problem](#section2b)\n",
    "      - [Define Test Cases](#section2c)\n",
    "      - [Algorithm Plan](#section2d)\n",
    "      - [Program Your Solution](#section2e)\n",
    "          - [Step 1: Write code to get input from the users and store in two variables.](#section2e1)\n",
    "          - [Step 2: Write code to determine the winner](#section2e2)\n",
    "              - [⏰ Breakout Session II](#section2e2a)\n",
    "          - [Step 3: Write code to display the winner.](#section2e3)\n",
    "          - [Step 4: Test and Debug](#section2e4)\n",
    "      - [Enhancing Our Solution](#section2f)\n",
    "         - [⏰ Breakout Session III](#section2f1)\n",
    "         - [⏰ Breakout Session IV](#section2f2)\n",
    "         - [Alternative Solution](#section2f3)\n",
    "         - [Automate the Fun: Challenge the Computer!](#section2f4)\n",
    "      - [Select a Solution](#section2g)"
   ]
  },
  {
   "cell_type": "markdown",
   "metadata": {
    "id": "z23vwGjKX4_W"
   },
   "source": [
    "<a id='section1'></a>\n",
    "# Engineering Design Process\n",
    "\n",
    "The Engineering Design Process is a systematic, iterative approach used by engineers to solve problems and develop solutions.\n",
    "\n",
    "<a id='section1a'></a>\n",
    "## Steps in the Engineering Design Process:\n",
    "\n",
    "### Learn to Define the Problem\n",
    "\n",
    "\n",
    "<img src=\"images/cake.jpg\" alt=\"drawing\" width=\"300\"/>\n",
    "<br>\n",
    "\n",
    "Before solving any problem, it's important to clearly understand what needs to be done. Imagine you're trying to bake a cake—you wouldn't just throw random ingredients together without knowing what kind of cake you want, right? Similarly, in programming, defining the problem means figuring out what the program should do, what inputs it will need, and what the expected outcome should be. This helps avoid confusion and ensures you're working towards the right goal.\n",
    "\n",
    "<br>\n",
    "\n",
    "### Practice Defining Test Cases\n",
    "\n",
    "<img src=\"images/mobile.png\" alt=\"drawing\" width=\"400\"/>\n",
    "<br>\n",
    "\n",
    "Once the problem is clear, the next step is to think about how you'll check if your solution works correctly. Think of it like testing a new phone—before buying, you'd probably check if the camera works, the battery lasts long enough, and if it fits your needs. In programming, test cases are like these checks; they help confirm whether the program behaves as expected for different inputs, including both normal and unexpected ones.\n",
    "\n",
    "<br>\n",
    "\n",
    "### Develop an Algorithm Plan\n",
    "\n",
    "<img src=\"images/travel.jpg\" alt=\"drawing\" width=\"400\"/>\n",
    "<br>\n",
    "\n",
    "Before jumping into writing code, it’s smart to create a plan, just like making a travel itinerary before going on a trip. You wouldn't just pack your bags and leave without knowing where you're going and how you'll get there. Similarly, an algorithm plan outlines the steps the program should follow to solve the problem efficiently. This makes it easier to stay on track and avoid unnecessary detours while coding.\n",
    "\n",
    "<br>\n",
    "\n",
    "### Program Your Solution and Debugging\n",
    "\n",
    "<img src=\"images/furniture.jpg\" alt=\"drawing\" width=\"300\"/>\n",
    "<br>\n",
    "\n",
    "Once you have a clear plan, it's time to start coding—like building a piece of furniture following an instruction manual. But sometimes things don't fit quite right, and you need to figure out what's wrong. In coding, this process is called debugging. It involves finding and fixing mistakes in the code to make sure everything works smoothly. Testing often and making small changes help in getting to a perfect solution step by step."
   ]
  },
  {
   "cell_type": "markdown",
   "metadata": {
    "id": "A6c73gwmHioO"
   },
   "source": [
    "<a id='section1b'></a>\n",
    "## Breakout Session I: Coffee Break in the Early Morning Class ☕\n",
    "A quick Warm-up"
   ]
  },
  {
   "cell_type": "markdown",
   "metadata": {
    "id": "6rnPyFSzHm09"
   },
   "source": [
    "It's too early, and caffeine is the only thing standing between you and total chaos. Let's design a simple coffee machine that does what it's supposed to—serve coffee.\n",
    "\n",
    "Here’s what’s on the menu ☕ :\n",
    "\n",
    "\n",
    "1. Espresso - `$3`\n",
    "2. Latte - `$4`\n",
    "3. Cappuccino - `$5`\n",
    "4. Exit (to end the order and get back to work 😴)\n",
    "\n",
    "**Your task:**  \n",
    "Write a function called `coffee_machine(option)` that takes a single integer input representing the coffee choice. The function should return the selected beverage and its cost.\n",
    "\n",
    "\n",
    "<br>\n",
    "<p align=\"center\">\n",
    "<img src=\"images/coffee.webp\" alt=\"drawing\" width=\"400\"/>\n",
    "</p>\n",
    "<br>\n",
    "\n",
    "\n",
    "**Rules:**  \n",
    "- If the user selects an invalid option, print `\"Oops! That's not on the menu. Please select a valid option.\"`  \n",
    "- If the user selects `4`, print `\"Thank you! Have a great day and stay caffeinated!\"`  \n",
    "- Otherwise, print `\"You have selected\", coffee_name, \". That will be\", price, \". Enjoy your drink!\"`\n",
    "<br>"
   ]
  },
  {
   "cell_type": "code",
   "execution_count": null,
   "metadata": {
    "ExecuteTime": {
     "end_time": "2025-01-23T03:20:50.102494Z",
     "start_time": "2025-01-23T03:20:50.098388Z"
    },
    "id": "KAcobn3tJJAg"
   },
   "outputs": [],
   "source": [
    "def coffee_machine(option):\n",
    "    \"\"\"\n",
    "    (int) -> str\n",
    "\n",
    "    This function simulates a simple coffee machine that serves drinks based on user input.\n",
    "    Menu Options:\n",
    "    1. Espresso - $3\n",
    "    2. Latte - $4\n",
    "    3. Cappuccino - $5\n",
    "    4. Exit - End the order\n",
    "    The user enters the selected coffee option (1-4).\n",
    "    Return a message indicating the selected drink and its cost.\n",
    "    \"\"\"\n",
    "    ..."
   ]
  },
  {
   "cell_type": "code",
   "execution_count": null,
   "metadata": {
    "id": "jl9K5M1VJaku"
   },
   "outputs": [],
   "source": [
    "# Take user input\n",
    "print(\"\\n☕ Welcome to the Coffee Machine! :coffee ☕\\n\")\n",
    "print(\"Please select your drink:\\n\")\n",
    "print(\"1. Espresso    - $3\")\n",
    "print(\"2. Latte       - $4\")\n",
    "print(\"3. Cappuccino  - $5\")\n",
    "print(\"4. Exit\\n\")\n",
    "\n",
    "# Take user's input in a variable, say, option\n",
    "# option should be an integer input\n",
    "...\n",
    "\n",
    "# Call your function and print the returned value\n",
    "..."
   ]
  },
  {
   "cell_type": "code",
   "execution_count": null,
   "metadata": {
    "id": "u-jrgcK0N14Z"
   },
   "outputs": [],
   "source": [
    "# Run tests\n",
    "from utils import run_tests_coffee_machine\n",
    "\n",
    "run_tests_coffee_machine(coffee_machine)"
   ]
  },
  {
   "cell_type": "markdown",
   "metadata": {
    "id": "_jXUjvKRViKN"
   },
   "source": [
    "<a id='section2'></a>\n",
    "# Design Problem"
   ]
  },
  {
   "cell_type": "markdown",
   "metadata": {
    "id": "CyvZB_Sboroe"
   },
   "source": [
    "<a id='section2a'></a>\n",
    "## Problem Background\n",
    "\n",
    "You and your friends are debating what to do after a long day of classes—watch a movie, play video games, or go out for food. To make things fair, you decide to settle it with a classic game of **Rock-Paper-Scissors**.\n",
    "\n",
    "<br>\n",
    "<p align=\"center\">\n",
    "<img src=\"images/settle.jpg\" alt=\"drawing\" width=\"400\"/>\n",
    "</p>\n",
    "<br>\n",
    "\n",
    "But then you remember Sheldon Cooper from *The Big Bang Theory* once pointed out a major flaw in the traditional game: **too many ties!** Naturally, you all agree to switch things up with the superior version—**Rock-Paper-Scissors-Lizard-Spock**, which adds more strategic options and reduces ties.\n",
    "\n",
    "However, past experiences have shown that this game isn't always smooth sailing. There's always someone who takes too long to decide, leading to endless accusations of \"*late reactions!* \" and \"*you saw my choice first!* \" To avoid any future fights and ensure a fair game, why not automate the process?\n",
    "\n",
    "Your task is to write a Python program using conditional statements and two user inputs to play **Rock-Paper-Scissors-Lizard-Spock**, so there’s no room for disputes—just pure, unbiased competition."
   ]
  },
  {
   "cell_type": "markdown",
   "metadata": {
    "id": "Xs5JehFEoroh"
   },
   "source": [
    "<a id='section2b'></a>\n",
    "## Define the problem\n",
    "Given the spin on the classic rock-paper-scissors-game, we must develop a Python program with two user inputs and conditional statements, that obeys the game's rules, and accounts for all possible scenarios.\n",
    "\n",
    "<br>\n",
    "<p align=\"center\">\n",
    "<img src=\"images/RockPaperScissors.jpg\" alt=\"drawing\" width=\"600\"/>\n",
    "</p>\n",
    "<br>\n",
    "\n",
    "<br>\n",
    "<p align=\"center\">\n",
    "<img src=\"images/RockPaperScissorsLizardSpock.jpg\" alt=\"drawing\" width=\"600\"/>\n",
    "</p>\n",
    "<br>\n",
    "\n",
    "The difficulty in this problem lies in the implementation of the game with the comparison of user inputs. Do we want to use many if-statements? Is there a simpler way to do it? Let's consider some test cases first."
   ]
  },
  {
   "cell_type": "markdown",
   "metadata": {
    "id": "J5_pQSyCoroi"
   },
   "source": [
    "<a id='section2c'></a>\n",
    "## Define Test Cases\n",
    "\n",
    "Let's start with the easiest case of rock and scissors.\n",
    "\n",
    "<br>\n",
    "<p align=\"center\">\n",
    "<img src=\"images/rock_scissors.jpeg\" alt=\"drawing\" width=\"450\"/>\n",
    "</p>\n",
    "<br>\n",
    "\n",
    "Let's think through the different possible cases step by step:\n",
    "<br>\n",
    "\n",
    "```\n",
    "Case 1: User 1 selects rock and User 2 selects scissors\n",
    "Result: System prints \"User 1 wins\".\n",
    "\n",
    "Case 2: User 1 selects scissors and User 2 selects rock\n",
    "Result: System prints \"User 2 wins\".\n",
    "\n",
    "Case 3: User 1 and User 2 tie!\n",
    "Result: System prints \"It's a tie!\".\n",
    "```\n",
    "It is quite simple, if User 1 selects rock and User 2 selects scissors then our program must decide who wins!\n",
    "\n",
    "What if the users tie? How would we recognize that?\n",
    "\n",
    "<br>\n",
    "\n",
    "But what if either of the users makes a typo? Or selects an option not present?\n",
    "Our program must be able to recognize this and correct for it!"
   ]
  },
  {
   "cell_type": "markdown",
   "metadata": {
    "id": "5dtJG9Mgzt8B"
   },
   "source": [
    "<a id='section2d'></a>\n",
    "## Algorithm Plan\n",
    "Based on what we have learned so far, our program must:\n",
    "\n",
    " 1) Use if-statements to outline all possibilities\n",
    " <br>\n",
    " 2) Use a `select_winner` function to determine who won between the user inputs\n",
    "\n",
    "\n",
    "<br>\n",
    "<p align=\"center\">\n",
    "<img src=\"images/ifelse.jpeg\" alt=\"drawing\" width=\"450\"/>\n",
    "</p>\n",
    "\n",
    "Thus, a fantastic algorithmic plan would be:\n",
    "1. Get Rock-Paper-Scissors-Lizard-Spock (RPSLS) selection from the users\n",
    "2. Compare to determine who wins\n",
    "3. Display winner on the screen!"
   ]
  },
  {
   "cell_type": "markdown",
   "metadata": {
    "id": "jAsKdiIGd5tD"
   },
   "source": [
    "<a id='section2e'></a>\n",
    "## Program Your Solution\n",
    "The first and last steps look easy, while Step 2 may require some thinking. So let's try the following:\n",
    "\n",
    "1. Write code to get input from the users and store in two variables.\n",
    "2. Figure out how to compare inputs and compute to see who won.\n",
    "3. Write code to display the winner.\n",
    "4. Test and Debug if necessary.\n",
    "\n",
    "\n",
    "Let's start with the first step - seems simple!?"
   ]
  },
  {
   "cell_type": "markdown",
   "metadata": {
    "id": "wuymuR8Ad9ut"
   },
   "source": [
    "<a id='section2e1'></a>\n",
    "### Step 1: Write code to get input from the users and store in two variables."
   ]
  },
  {
   "cell_type": "code",
   "execution_count": null,
   "metadata": {
    "id": "2RZbBGQEoroi"
   },
   "outputs": [],
   "source": [
    "print(\"\\n--- Welcome to Rock, Paper, Scissors, Lizard, Spock! ---\\n\")\n",
    "\n",
    "print('Your options are:\\n🪨 Rock\\n📄 Paper\\n✂️ Scissors\\n🦎 Lizard\\n🖖 Spock\\n')\n",
    "player1_guess = input('Enter your choice Player 1: ')\n",
    "player2_guess = input('Enter your choice Player 2: ')"
   ]
  },
  {
   "cell_type": "markdown",
   "metadata": {
    "id": "R6o4l7LMoroi"
   },
   "source": [
    "Now let's move on to the most important part of the program—deciding the winner!\n"
   ]
  },
  {
   "cell_type": "markdown",
   "metadata": {
    "id": "GEcfqvKde9Gk"
   },
   "source": [
    "<a id='section2e2'></a>\n",
    "### Step 2: Write code to determine the winner\n",
    "A function `select_winner` is provided below to implement the game. Read through the code and test it out to understand how it works."
   ]
  },
  {
   "cell_type": "markdown",
   "metadata": {
    "id": "bGW5DTbYeiGu"
   },
   "source": [
    "<a id='section2e2a'></a>\n",
    "#### **⏰ Breakout Session II**"
   ]
  },
  {
   "cell_type": "markdown",
   "metadata": {
    "id": "_idCmykSz_Kg"
   },
   "source": [
    "**Here's the algorithm from The Big Bang Theory**\n",
    "\n",
    "<br>\n",
    "<p align=\"center\">\n",
    "<img src=\"images/rpsls.jpg\" alt=\"drawing\" width=\"450\"/>\n",
    "</p>"
   ]
  },
  {
   "cell_type": "markdown",
   "metadata": {
    "id": "oNZI-7Ul0FXj"
   },
   "source": [
    "It's better to check the base condition first, which is if the inputs are the same.\n",
    "This saves our time as we won't have to go through every condition. As we can see, there are 10 combinations that decide if a player wins or loses.\n",
    "I have written 8 of them, let's figure out the remaining ones!"
   ]
  },
  {
   "cell_type": "code",
   "execution_count": null,
   "metadata": {
    "id": "VfZdiVQgoroj"
   },
   "outputs": [],
   "source": [
    "# function which selects the winner\n",
    "def select_winner(input1, input2):\n",
    "    \"\"\"\n",
    "    (str, str) -> int\n",
    "\n",
    "    Determine winner of a two person rock-paper-scissors-lizard-spock game from two user inputs\n",
    "    If input1 wins, return -1\n",
    "    If input2 wins, return 1\n",
    "    If it's a tie, return 0\n",
    "\n",
    "    \"\"\"\n",
    "\n",
    "    # If it's a tie\n",
    "    if (input1 == input2):\n",
    "        return 0\n",
    "\n",
    "    # Scissors cuts Paper\n",
    "    elif (input1 == 'scissors') and (input2 == 'paper'):\n",
    "        return -1\n",
    "    elif (input1 == 'paper') and (input2 == 'scissors'):\n",
    "        return 1\n",
    "\n",
    "    # Paper covers Rock\n",
    "    elif (input1 == 'paper') and (input2 == 'rock'):\n",
    "        return -1\n",
    "    elif (input1 == 'rock') and (input2 == 'paper'):\n",
    "        return 1\n",
    "\n",
    "    # Lizard eats Paper\n",
    "    elif (input1 == 'lizard') and (input2 == 'paper'):\n",
    "        return -1\n",
    "    elif (input1 == 'paper') and (input2 == 'lizard'):\n",
    "        return 1\n",
    "\n",
    "    # Rock crushes Lizard\n",
    "    elif (input1 == 'rock') and (input2 == 'lizard'):\n",
    "        return -1\n",
    "    elif (input1 == 'lizard') and (input2 == 'rock'):\n",
    "        return 1\n",
    "\n",
    "    # Lizard poisons Spock\n",
    "    elif (input1 == 'spock') and (input2 == 'lizard'):\n",
    "        return 1\n",
    "    elif (input1 == 'lizard') and (input2 == 'spock'):\n",
    "        return -1\n",
    "\n",
    "    # Paper disproves Spock\n",
    "    elif (input1 == 'paper') and (input2 == 'spock'):\n",
    "        return 1\n",
    "    elif (input1 == 'spock') and (input2 == 'paper'):\n",
    "        return -1\n",
    "\n",
    "    # Scissors decapitates Lizard\n",
    "    elif (input1 == 'lizard') and (input2 == 'scissors'):\n",
    "        return 1\n",
    "    elif (input1 == 'scissors') and (input2 == 'lizard'):\n",
    "        return -1\n",
    "\n",
    "    # Spock vapourises Rock\n",
    "    elif (input1 == 'rock') and (input2 == 'spock'):\n",
    "        return 1\n",
    "    elif (input1 == 'spock') and (input2 == 'rock'):\n",
    "        return -1\n",
    "\n",
    "    # Spock smashes Scissors\n",
    "    elif (input1 == 'scissors') and (input2 == 'spock'):\n",
    "        return 1\n",
    "    elif (input1 == 'spock') and (input2 == 'scissors'):\n",
    "        return -1\n",
    "\n",
    "    # Rock crushes Scissors\n",
    "    ...\n",
    "\n",
    "    # since we can't determine who wins\n",
    "    else:\n",
    "        print (\"Input is not a character in RPSLS\")\n",
    "        return 0"
   ]
  },
  {
   "cell_type": "markdown",
   "metadata": {
    "id": "QJUBgJBujwTn"
   },
   "source": [
    "<a id='section2e3'></a>\n",
    "### Step 3: Write code to display the winner."
   ]
  },
  {
   "cell_type": "markdown",
   "metadata": {},
   "source": [
    "You can use the below code to take user inputs, call the fucntion `rps_winner` you have written above and print the results. Here we just assume that the user input is a valid word. If you have time, go ahead and implement a simple validation check! 😉\n",
    "\n",
    "OR\n",
    "\n",
    "You can write your own code to practice! 🏹"
   ]
  },
  {
   "cell_type": "code",
   "execution_count": null,
   "metadata": {
    "id": "ttHo1JWa0MgZ"
   },
   "outputs": [],
   "source": [
    "print(\"\\n--- Welcome to Rock, Paper, Scissors! ---\\n\")\n",
    "\n",
    "print('Your options are:\\n🪨 Rock\\n📄 Paper\\n✂️ Scissors\\n')\n",
    "\n",
    "# Take inputs from both the users\n",
    "player1_guess = ...\n",
    "player2_guess = ...\n",
    "\n",
    "# Call your function here\n",
    "\n",
    "\n",
    "# Print your results here"
   ]
  },
  {
   "cell_type": "markdown",
   "metadata": {
    "id": "McpFn54mltyA"
   },
   "source": [
    "<a id='section2e4'></a>\n",
    "### Step 4: Test and Debug"
   ]
  },
  {
   "cell_type": "code",
   "execution_count": null,
   "metadata": {
    "id": "nZZj7E6Fhder"
   },
   "outputs": [],
   "source": [
    "# Run test cases\n",
    "from utils import run_tests_select_winner\n",
    "\n",
    "run_tests_select_winner(select_winner)"
   ]
  },
  {
   "cell_type": "markdown",
   "metadata": {
    "id": "z41iIkF1oroj"
   },
   "source": [
    "**What do we think?**\n",
    "The code is pretty straightforward and might be a good place to start. However, as engineers and programmers, one crucial question should come to mind: *Can we do better?*  \n",
    "\n",
    "**(Potential) Problems with the Current Solution**  \n",
    "\n",
    "1. **Hardcoded Choices**  \n",
    "   - One challenge with this version is that we have to manually hardcode every single option. This approach quickly becomes unrealistic and difficult to scale.\n",
    "\n",
    "2. **Excessive Conditional Statements**  \n",
    "   - The current `select_winner` function relies heavily on numerous if-elif statements. Writing too much code for such a simple game isn't ideal, and there's a need for a more concise solution.\n",
    "\n",
    "<br>\n",
    "<p align=\"center\">\n",
    "  <img src=\"images/reboot.jpg\" alt=\"drawing\" width=\"600\"/>\n",
    "</p>\n",
    "<br>"
   ]
  },
  {
   "cell_type": "markdown",
   "metadata": {
    "id": "pgQ8sKtWl0-U"
   },
   "source": [
    "<a id='section2f'></a>\n",
    "## Enhancing Our Solution\n",
    "\n",
    "Instead of jumping straight into optimizing the entire game, let's take a step back and focus on solving a smaller part of the problem—just rock-paper-scissors. This will help us visualize a cleaner and more efficient solution."
   ]
  },
  {
   "cell_type": "markdown",
   "metadata": {
    "id": "yoB56Py6oroj"
   },
   "source": [
    "<a id='section2f1'></a>\n",
    "### **⏰ Breakout Session III**\n",
    "\n",
    "Complete the function below using the following table that combines similar outcomes in a game of rock-paper-scissors.\n",
    "\n",
    "\n",
    "<p align=\"center\"> <img src=\"images/rps.png\" alt=\"drawing\" width=\"600\"/> </p>\n",
    "\n",
    "\n",
    "\n",
    "| **Player 1** | **Player 2** | **Outcome** |\n",
    "| --- | --- | --- |\n",
    "| Rock | Rock | Tie |\n",
    "| Paper | Paper | Tie |\n",
    "| Scissors | Scissors | Tie |\n",
    "| --- | --- | --- |\n",
    "| Rock | Scissors | P1 Win |\n",
    "| Paper | Rock | P1 Win  |\n",
    "| Scissors | Paper | P1 Win |\n",
    "| --- | --- | --- |\n",
    "| Rock | Paper | P2 Win |\n",
    "| Paper | Scissors | P2 Win  |\n",
    "| Scissors | Rock | P2 Win |"
   ]
  },
  {
   "cell_type": "code",
   "execution_count": null,
   "metadata": {
    "id": "FpugatG7oroj"
   },
   "outputs": [],
   "source": [
    "def rps_winner(input1, input2):\n",
    "    \"\"\"\n",
    "    (str, str) -> int\n",
    "    Determine winner of a two person rock-paper-scissors-lizard-spock game from two user inputs\n",
    "        rock beats scissors\n",
    "        paper beats rock\n",
    "        scissors beats paper\n",
    "    If input1 wins, return -1\n",
    "    If input2 wins, return 1\n",
    "    \"\"\"\n",
    "    # Combine the conditions from the first implementation for the 3 possible outcomes\n",
    "    # Hint - can you shorten the conidition for one of the 3 outcomes?\n",
    "    ..."
   ]
  },
  {
   "cell_type": "code",
   "execution_count": null,
   "metadata": {
    "id": "a4K24Otc0Ya9"
   },
   "outputs": [],
   "source": [
    "print(\"\\n--- Welcome to Rock, Paper, Scissors! ---\\n\")\n",
    "\n",
    "print('Your options are:\\n🪨 Rock\\n📄 Paper\\n✂️ Scissors\\n')\n",
    "player1_guess = input('Enter your choice Player 1: ')\n",
    "player2_guess = input('Enter your choice Player 2: ')\n",
    "\n",
    "\n",
    "# Call the function rps_winner\n",
    "winner = rps_winner(str(player1_guess), str(player2_guess))\n",
    "\n",
    "# Print your results here\n",
    "print(\"\\n🥁 Drumrolls... 🥁\\n\")\n",
    "\n",
    "if winner == 1:\n",
    "    print(\"Player 2 wins!\")\n",
    "elif winner == -1:\n",
    "    print(\"Player 1 wins!\")\n",
    "else:\n",
    "    print(\"It's a tie!\")"
   ]
  },
  {
   "cell_type": "markdown",
   "metadata": {
    "id": "0NUSrHJLrujB"
   },
   "source": [
    "Let's test"
   ]
  },
  {
   "cell_type": "code",
   "execution_count": null,
   "metadata": {
    "id": "4GB6ECN3iCHd"
   },
   "outputs": [],
   "source": [
    "# Run test cases\n",
    "from utils import ...\n",
    "\n",
    "# Call the function run_tests_rps_winner to check your code\n",
    "# No argument is required\n",
    "..."
   ]
  },
  {
   "cell_type": "markdown",
   "metadata": {
    "id": "iecLyn1PihKi"
   },
   "source": [
    "**Good Game!** 🌟\n",
    "\n",
    "\n",
    "Let's look at our function. It seems pretty reasonable. Can we extend it to the full game? One problem is that in the full game for each choice of player 1 there are two other choices that beat it and two other choices that it beats. Can we incorporate that easily?"
   ]
  },
  {
   "cell_type": "markdown",
   "metadata": {
    "id": "UYh6uGO7oroj"
   },
   "source": [
    "<a id='section2f2'></a>\n",
    "### **⏰ Breakout Session IV**\n",
    "\n",
    "<br>\n",
    "<p align=\"center\"> <img src=\"images/rpsls2.jpg\" alt=\"drawing\" width=\"600\"/> </p>\n",
    "<br>\n",
    "\n",
    "Modify the logic of `rps_winner` and write complete the function `rpsls_winner to extend it for a game of rock-paper-scissors-lizard-spock.\n",
    "\n",
    "| **Player 1** | **Player 2** | **Player 2** | **Outcome** |\n",
    "| --- | --- | --- | --- |\n",
    "| Rock | Scissors | Lizard | P1 Win |\n",
    "| Paper | Rock | Spock | P1 Win  |\n",
    "| Scissors | Paper | Lizard | P1 Win |\n",
    "| Lizard | Paper | Spock | P1 Win  |\n",
    "| Spock | Scissors | Rock | P1 Win |"
   ]
  },
  {
   "cell_type": "code",
   "execution_count": null,
   "metadata": {
    "id": "gwKiRzc3orok"
   },
   "outputs": [],
   "source": [
    "# function which selects the winner\n",
    "def rpsls_winner(input1, input2):\n",
    "    \"\"\"\n",
    "    (str, str) -> int\n",
    "    Determine winner of a two person rock-paper-scissors-lizard-Spock game from two user inputs\n",
    "        rock beats scissors and lizard\n",
    "        paper beats rock and Spock\n",
    "        scissors beats paper and lizard\n",
    "        lizard beats paper and Spock\n",
    "        Spock beats scissors and rock\n",
    "    If input1 wins, return -1\n",
    "    If input2 wins, return 1\n",
    "    \"\"\"\n",
    "    # Determine if players tie\n",
    "    if input1 == input2:\n",
    "        return 0\n",
    "\n",
    "    # Modify the below logic to evaluate rpsls\n",
    "    # Else if determine if player1 actually wins\n",
    "    elif ((input1 == 'rock') and (input2 == 'scissors')) or \\\n",
    "         ((input1 == 'paper') and (input2 == 'rock')) or \\\n",
    "         ((input1 == 'scissors') and (input2 == 'paper')):\n",
    "        return -1\n",
    "\n",
    "    # Else player 2 won\n",
    "    else:\n",
    "        return 1"
   ]
  },
  {
   "cell_type": "markdown",
   "metadata": {
    "id": "OSOEVULFrqdY"
   },
   "source": [
    "Let's test!"
   ]
  },
  {
   "cell_type": "code",
   "execution_count": null,
   "metadata": {
    "id": "s6GuVfwZiXjY"
   },
   "outputs": [],
   "source": [
    "# Run test cases\n",
    "from utils import ...\n",
    "\n",
    "# Call the function run_tests_rpsls_winner to check your code\n",
    "# No argument is required\n",
    "..."
   ]
  },
  {
   "cell_type": "markdown",
   "metadata": {
    "id": "-FaTnfQIorok"
   },
   "source": [
    "<a id='section2f3'></a>\n",
    "### Alternative Solution\n",
    "\n",
    "Here is another version just to showcase another example of accomplishing the same goal. In this version, we will initially assume that the game is a tie. If that condition is not true, we will further assume player 2 will win and then check whether player 1 actually wins the game.\n",
    "\n",
    "<br>\n",
    "\n",
    "The check for tie happens first, and then player 2 is assumed to win, which reduces redundancy by avoiding the else block."
   ]
  },
  {
   "cell_type": "code",
   "execution_count": null,
   "metadata": {
    "id": "zg8ukrKAorok"
   },
   "outputs": [],
   "source": [
    "def rpsls_winner(input1, input2):\n",
    "    \"\"\"\n",
    "    (str, str) -> int\n",
    "    Determine winner of a two person rock-paper-scissors-lizard-spock game from two user inputs\n",
    "        rock beats scissors and lizard\n",
    "        paper beats rock and Spock\n",
    "        scissors beats paper and lizard\n",
    "        lizard beats paper and Spock\n",
    "        Spock beats scissors and rock\n",
    "    If input1 wins, return -1\n",
    "    If input2 wins, return 1\n",
    "    \"\"\"\n",
    "\n",
    "    # Our initial assumption is that the game is a tie\n",
    "    return_value = 0\n",
    "\n",
    "    # Check the assumption that the game is a tie\n",
    "    if input1 != input2:\n",
    "        # If not a tie, Assume player2 wins\n",
    "        return_value = 1\n",
    "\n",
    "    # Determine if player1 actually wins\n",
    "    if ((input1 == 'rock') and (input2 == 'scissors' or input2 == 'lizard')) or \\\n",
    "        ((input1 == 'paper') and (input2 == 'rock' or input2 == 'spock')) or \\\n",
    "        ((input1 == 'scissors') and (input2 == 'paper' or input2 == 'lizard')) or \\\n",
    "        ((input1 == 'lizard') and (input2 == 'paper' or input2 == 'spock')) or \\\n",
    "        ((input1 == 'spock') and (input2 == 'scissors' or input2 == 'rock')):\n",
    "        return_value = -1\n",
    "\n",
    "    return return_value"
   ]
  },
  {
   "cell_type": "code",
   "execution_count": null,
   "metadata": {
    "id": "CYI2hUlUorok"
   },
   "outputs": [],
   "source": [
    "# Test your code!\n",
    "print(\"\\n--- Welcome to Rock, Paper, Scissors, Lizard, Spock! ---\\n\")\n",
    "\n",
    "print('Your options are:\\n🪨 Rock\\n📄 Paper\\n✂️ Scissors\\n🦎 Lizard\\n🖖 Spock\\n')\n",
    "player1_guess = input('Enter your choice Player 1: ')\n",
    "player2_guess = input('Enter your choice Player 2: ')\n",
    "\n",
    "# Call the function to select winner\n",
    "winner = rpsls_winner(player1_guess, player2_guess)\n",
    "\n",
    "print(\"\\n🥁 Drumrolls... 🥁\\n\")\n",
    "\n",
    "if  winner == -1:\n",
    "    print(\"Player 1 wins\")\n",
    "elif winner == 1:\n",
    "    print(\"Player 2 wins\")\n",
    "else:\n",
    "    print(\"It's a tie.\")"
   ]
  },
  {
   "cell_type": "markdown",
   "metadata": {
    "id": "r8CNX1Wqorok"
   },
   "source": [
    "<a id='section2f4'></a>\n",
    "### Automate the Fun: Challenge the Computer!\n",
    "What if we could take the game to the next level by facing off against a computer opponent? To make things exciting and unpredictable, we need to ensure the game is truly random!"
   ]
  },
  {
   "cell_type": "code",
   "execution_count": null,
   "metadata": {
    "id": "aAbe2YvB0-rm"
   },
   "outputs": [],
   "source": [
    "def rpsls_winner(input1, input2):\n",
    "    \"\"\"\n",
    "    (str, str) -> int\n",
    "    Determine winner of a two person rock-paper-scissors-lizard-Spock game from two user inputs\n",
    "        rock beats scissors and lizard\n",
    "        paper beats rock and Spock\n",
    "        scissors beats paper and lizard\n",
    "        lizard beats paper and Spock\n",
    "        Spock beats scissors and rock\n",
    "    If input1 wins, return -1\n",
    "    If input2 wins, return 1\n",
    "    \"\"\"\n",
    "    return_value = 0\n",
    "    if input1 != input2:\n",
    "        # not a tie\n",
    "        return_value = 1 # assume player2 wins\n",
    "\n",
    "        # determine if player1 actually wins\n",
    "        if ((input1 == 'rock') and (input2 == 'scissors' or input2 == 'lizard')) or \\\n",
    "           ((input1 == 'scissors') and (input2 == 'paper' or input2 == 'lizard')) or \\\n",
    "           ((input1 == 'paper') and (input2 == 'rock' or input2 == 'spock')) or \\\n",
    "           ((input1 == 'lizard') and (input2 == 'paper' or input2 == 'spock')) or \\\n",
    "           ((input1 == 'spock') and (input2 == 'scissors' or input2 == 'rock')):\n",
    "            return_value = -1\n",
    "\n",
    "    return return_value"
   ]
  },
  {
   "cell_type": "markdown",
   "metadata": {
    "id": "VhVJddcy1Moi"
   },
   "source": [
    "We'll see in a few weeks that there is a better way to do this using lists for now, let's go with what we know"
   ]
  },
  {
   "cell_type": "code",
   "execution_count": null,
   "metadata": {
    "id": "n8bQF78Oorok"
   },
   "outputs": [],
   "source": [
    "import random\n",
    "\n",
    "\n",
    "def generate_guess():\n",
    "    \"\"\"\n",
    "    (None) -> str\n",
    "    Converts int number to a string name (choice in RPLS)\n",
    "    number_to_name(number) -> string\n",
    "    \"\"\"\n",
    "\n",
    "    # The below code generates a random integer between 0 and 5\n",
    "    # This includes 0 but excludes 5 -> 0, 1, 2, 3, 4\n",
    "    guess_number = random.randrange(0,5)\n",
    "    guess_str = \"\"\n",
    "\n",
    "    # Code to complete the number to name conversion\n",
    "    if guess_number == 0:\n",
    "        guess_str = \"rock\"\n",
    "    elif guess_number == 1:\n",
    "        guess_str = \"spock\"\n",
    "    elif guess_number == 2:\n",
    "        guess_str = \"paper\"\n",
    "    elif guess_number == 3:\n",
    "        guess_str = \"lizard\"\n",
    "    elif guess_number == 4:\n",
    "        guess_str = \"scissors\"\n",
    "\n",
    "    return guess_str"
   ]
  },
  {
   "cell_type": "markdown",
   "metadata": {
    "id": "7Qhte0nQorok"
   },
   "source": [
    "<a id='section2g'></a>\n",
    "## Select a Solution\n",
    "\n",
    "Now that we have it working, we need to think about whether this is a good approach. The code we've written is quite clear and easy to follow - and with practice, your coding skills will only get better!\n",
    "\n",
    "Another way to solve the problem is to encode each choice as a number and then subtract the two players' choices. Based on the result, can you tell who won? (We'll leave that as a challenge).\n",
    "\n",
    "For now, it looks like the code is reasonable and so we can select it as a solution."
   ]
  },
  {
   "cell_type": "markdown",
   "metadata": {
    "id": "7eIB9TAe1Dt8"
   },
   "source": [
    "Awesome Job! 🎉  \n",
    "\n",
    "<br>\n",
    "<p align=\"center\">\n",
    "  <img src=\"images/bbt.jpg\" alt=\"drawing\" width=\"600\"/>\n",
    "</p>\n",
    "<br>\n",
    "\n",
    "Time to bring your code to life with some cool visualizations! 🚀"
   ]
  },
  {
   "cell_type": "code",
   "execution_count": null,
   "metadata": {
    "id": "5jF1LL-worok"
   },
   "outputs": [],
   "source": [
    "from utils import visualizer\n",
    "\n",
    "print(\"\\n--- Welcome to Rock, Paper, Scissors, Lizard, Spock! ---\\n\")\n",
    "\n",
    "print('Your options are:\\n🪨 Rock\\n📄 Paper\\n✂️ Scissors\\n🦎 Lizard\\n🖖 Spock\\n')\n",
    "player1_guess = input('Enter your choice: ')\n",
    "computer_guess = generate_guess()\n",
    "\n",
    "print(\"\\nPlayer:\",player1_guess, \"\\nComputer:\", computer_guess)\n",
    "\n",
    "winner = rpsls_winner(player1_guess, computer_guess)\n",
    "\n",
    "print(\"\\n🥁 Drumrolls... 🥁\\n\")\n",
    "\n",
    "if  winner == -1:\n",
    "    print(\"Player 1 wins\")\n",
    "elif winner == 1:\n",
    "    print(\"Computer wins\")\n",
    "else:\n",
    "    print(\"It's a tie.\")\n",
    "\n",
    "# Just for fun we have a visualizer of the game\n",
    "visualizer(player1_guess, computer_guess, winner)"
   ]
  },
  {
   "cell_type": "code",
   "execution_count": null,
   "metadata": {
    "id": "DHTTDJoR13vS"
   },
   "outputs": [],
   "source": []
  }
 ],
 "metadata": {
  "colab": {
   "provenance": []
  },
  "kernelspec": {
   "display_name": "Python 3 (ipykernel)",
   "language": "python",
   "name": "python3"
  },
  "language_info": {
   "codemirror_mode": {
    "name": "ipython",
    "version": 3
   },
   "file_extension": ".py",
   "mimetype": "text/x-python",
   "name": "python",
   "nbconvert_exporter": "python",
   "pygments_lexer": "ipython3",
   "version": "3.9.6"
  }
 },
 "nbformat": 4,
 "nbformat_minor": 4
}
