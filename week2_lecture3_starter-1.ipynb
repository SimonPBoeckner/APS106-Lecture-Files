{
 "cells": [
  {
   "cell_type": "markdown",
   "id": "7cf98b7f",
   "metadata": {},
   "source": [
    "# APS106 - Fundamentals of Computer Programming\n",
    "## Design Project 1: Forward Kinematics\n",
    "\n",
    "### Lecture Structure\n",
    "1. [An Engineering Design for Programming](#section1)\n",
    "2. [Design Project 1: Forward Kinematics](#section2)\n",
    "    - [Define the Problem](#section2a)\n",
    "    - [Define Test Cases](#section2b)\n",
    "    - [Generate Many Creative Solutions](#section2c)\n",
    "    - [Select a Solution](#section2d)\n",
    "    - [Implement the Solution](#section2e)\n",
    "3. [Problem Solution](#section3)\n",
    "    - [Programming Step 1: Get input and store it in variables](#section3a)\n",
    "    - [Programming Step 2 – Implement calculation of $\\Delta x_1$ and $\\Delta y_1$ from the inputs and test](#section3b)\n",
    "    - [Programming Step 3 – Implement calculation of $\\Delta x_2$ and $\\Delta y_2$ from the inputs and test](#section3c)\n",
    "    - [Programming Step 4 – Package the solution in a reusable function](#section3d)\n",
    "    - [Programming Step 5 – Run tests](#section3e)\n",
    "4. [Fun Visualization Using Your Function](#section4)"
   ]
  },
  {
   "cell_type": "markdown",
   "id": "ac9bbf29",
   "metadata": {},
   "source": [
    "<a id='section1'></a>\n",
    "## 1. An Engineering Design for Programming\n",
    "\n",
    "As you have seen in APS111/112, a key part of engineering is the design of objects, processes, and systems. From an engineering perspective, programming is the design, implementation, testing, and documentation of a piece of software that solves a particular problem. The software might be part of a larger system (e.g., the avionics software of an aircraft, the accounting or human resources software of a business), but it represents the solution to a design problem (or part of a design problem). \n",
    "\n",
    "We will therefore approach programing as an engineering design process and adapt the process you have already seen.\n",
    "<br>\n",
    "<img src=\"images/DesignCycle.png\" alt=\"drawing\" width=\"600\"/>\n",
    "<br>\n",
    "### An Engineering Design Process (for programming)\n",
    "\n",
    "#### 1. Define the Problem\n",
    "\n",
    "Develop a clear and detailed problem statement. Be clear on what needs to be done. Sometimes the problem will be easy enough (especially as you are learning programming) that the initial problem statement given by the client/prof is sufficient. More often, the problem is complex enough that forming a complete, explicit definition is a challenge itself and sometimes (even, often) the client doesn’t really understand the problem him/herself. In such cases, research and iteration with the client is necessary.\n",
    "\n",
    "#### 2. Define Test Cases\n",
    "\n",
    "Work out specific test cases for which you know the answer. This will help in the solidifying the problem definition and provide you with tests once you have working code. Try to cover a reasonable span of possible cases that may come up. Think about strange cases that might break the code. Think about reasonable measures of efficiency, speed, and memory size. \n",
    "\n",
    "#### 3. Generate Many Creative Solutions\n",
    "\n",
    "Think about solutions and write them down. Try to be as creative as possible. \n",
    "\n",
    "A “solution” at this stage is two things:\n",
    "\n",
    "1. **An Algorithm Plan**: a list of a few (from 4 or 5 to a dozen) steps that your algorithm will execute to solve the problem. These are high-level steps that can correspond to many lines of code. In real projects, these steps will themselves be subject to the design process (i.e. they will in turn be broken down into sub-steps perhaps may layers deep).\n",
    "\n",
    "2. **A Programming Plan**: a list of steps you will take in programming the algorithm. Sometimes this will be the form of programming, testing, and debugging each of the algorithm steps in order. But it doesn’t have to be that way. Especially for larger systems, the algorithm steps may be designed and implemented by different people in parallel or you may choose to program, test, and debug the hardest step first to make sure you understand the problem enough. Or you may decide to do the easiest steps first.\n",
    "\n",
    "<div class=\"alert alert-block alert-danger\">\n",
    "<big><b>The point is that you program not by trying to write all the code at once and then hoping it all works. Rather, you divide it up into a number of steps and make sure each step is implemented and works as you proceed.</b></big>\n",
    "</div>\n",
    "\n",
    "\n",
    "#### 4. Select a Solution\n",
    "\n",
    "Evaluate the algorithm and programming plans you have generated. Does it appear that this solution will truly solve the problem? You may write some prototype code to understand if particular design ideas will work. Pick the best solution. If it is good enough, continue to Step 5, otherwise return to an earlier step (maybe even Step 1 as you have uncovered new parts of the problem definition). \n",
    "\n",
    "#### 5. Implement the Solution\n",
    "\n",
    "Follow your chosen programming plan to implement the code. For each step in your programming plan, you should ensure that the code is working: it runs some “sub-tests” correctly. Even though it doesn’t solve the whole problem, it should produce intermediate results that you can verify are correct. If it doesn’t, you should debug it before moving onto the next step. Implementation includes the documentation in the code: functions should have well-written docstrings and comments should be used – it is better to over-comment than under-comment.\n",
    "\n",
    "#### 6. Perform Final Testing\n",
    "\n",
    "Evaluate the solution against the test metrics, ensuring everything is in order. If the solution is not satisfactory, you need to either return to Step 5 to debug the code or return to Step 1 to develop a better understanding of the problem.\n",
    "\n",
    "\n",
    "### Final Remark: Design is Iterative\n",
    "\n",
    "The above seems very proper and linear. Real programming isn't. Real programming is a but chaotic because you are creating something that doesn't yet exist and figuring out how to solve the problem as you go. Having some structure will help you not get lost.\n",
    "\n",
    "One of the most essential parts of all engineering design processes is iteration. Programming is no different. In fact, iteration may be even more important in programming because it is relatively inexpensive to write prototype code (compared to, say, building a prototype engine). This means that steps in the process are repeated over and over, in a loop. You might realize that you need to jump back to an earlier step because you missed a key requirement or because you mistakenly thought that you understood how to program a particular step. Each iteration brings with it an increased level of understanding of the problem that deepens your knowledge. Iteration may allow you to conceive solutions that were not initially apparent."
   ]
  },
  {
   "cell_type": "markdown",
   "id": "c91e5a19",
   "metadata": {},
   "source": [
    "<a id='section2'></a>\n",
    "## Design Project 1: Forward Kinematics\n",
    "### Problem Background\n",
    "\n",
    "If you have a robotic arm (e.g., the Canadarm) with joints, it is important to be able to calculate where the end of the arm (i.e., the part usually used for picking something up) will be based on the characteristics of the arm (e.g., the length of the components) and the angles of its joints.\n",
    "\n",
    "Forward kinematics is the use of the kinematic equations of a robot to compute the position of the end of the arm (end-effector) from specified values for the joint parameters. Forward kinematics is used heavily in robotics, computer games, and animation.\n",
    "<br>\n",
    "<img src=\"images/Arm.png\" alt=\"drawing\" width=\"400\"/>\n",
    "<br>\n",
    "<br>\n",
    "<img src=\"images/ArmMath.png\" alt=\"drawing\" width=\"400\"/>\n",
    "<br>\n",
    "<a id='section2a'></a>\n",
    "### 1. Define the Problem\n",
    "Given a robotic arm with two degrees of freedom (see above diagram), determine the position (x,y) of the effector given the component-arm lengths and joint angles.\n",
    "\n",
    "We need to find the `x` and `y` coordinates of the end of the arm. Those coordinates will obviously depend on the location of the base of the arm. And so a relevant question to the client is if we can define our own coordinate system or if there is a larger system that this arm is part of. Let’s assume that we can define our own coordinate system.\n",
    "\n",
    "Something to think about: how expensive will it be if this assumption is wrong? Will we have to throw away all our work and start again? Or is there likely to be an easy way to take a solution with a fixed coordinate system and reuse it in an externally specified coordinate system?\n",
    "\n",
    "<a id='section2b'></a>\n",
    "### 2. Define Test Cases\n",
    "#### Test Case 1\n",
    "`len1 = 1, len2 = 1, ang1 = 60, ang2 = 30`\n",
    "<br>\n",
    "<img src=\"images/Test1.png\" alt=\"drawing\" width=\"400\"/>\n",
    "<br>\n",
    "End effector position `x = 0.5, y = 1.87`\n",
    "\n",
    "#### Test Case 2\n",
    "`len1 = 1, len2 = 1, ang1 = 60, ang2 = -30`\n",
    "<br>\n",
    "<img src=\"images/Test2.png\" alt=\"drawing\" width=\"400\"/>\n",
    "<br>\n",
    "End effector position `x = 1.37, y = 1.37`\n",
    "\n",
    "Where do these test cases come from? Either the client gives them to you or you have to figure out from first principles (or research) how to calculate the answers by hand. "
   ]
  },
  {
   "cell_type": "markdown",
   "id": "9796b89d",
   "metadata": {},
   "source": [
    "<a id='section2c'></a>\n",
    "### 3. Generate Many Creative Solutions\n",
    "\n",
    "Based on simple physics and math, we can obtain the ($\\Delta x_1$, $\\Delta y_1$) position of the end of the first component arm.\n",
    "\n",
    "\\begin{align}\n",
    "\\Delta x_1 & = L_1\\cos(\\theta_1) \\\\\n",
    "\\Delta y_1 & = L_1\\sin(\\theta_1)\n",
    "\\end{align}\n",
    "\n",
    "Then we can obtain the ($\\Delta x_2$, $\\Delta y_2$) position for arm 2.\n",
    "\n",
    "\\begin{align}\n",
    "\\Delta x_2 & = L_2\\cos(\\theta_2 + \\theta_1) \\\\\n",
    "\\Delta y_2 & = L_2\\sin(\\theta_2 + \\theta_1)\n",
    "\\end{align}\n",
    "\n",
    "Finally we can find the (x,y) position by adding up the components.\n",
    "\n",
    "\\begin{align}\n",
    "x & = \\Delta x_1+ \\Delta x_2 \\\\\n",
    "y & = \\Delta y_1+ \\Delta y_2\n",
    "\\end{align}\n",
    "\n",
    "These steps nicely form an Algorithm Plan\n",
    "\n",
    "1. Get arm lengths and angles from the user.\n",
    "1. Calculate (x,y) position of the end of arm 1.\n",
    "1. Calculate the (x,y) position of the end of arm 2.\n",
    "1. Add up the components.\n",
    "\n",
    "Another solution may arise from the observation that the x and y dimensions can be solved independently. Does this observation fundamentally change the solution?\n",
    "\n",
    "How about a Programming Plan? How should we go about implementing the above?\n",
    "\n",
    "1. Get the input and store them in variables.\n",
    "1. Implement calculation of $\\Delta x_1$ and $\\Delta y_1$ from the inputs and test.\n",
    "1. Implement calculation $\\Delta x_2$ and $\\Delta y_2$ from the inputs and test.\n",
    "1. Calculate x and y from the deltas."
   ]
  },
  {
   "cell_type": "markdown",
   "id": "61c852e7",
   "metadata": {},
   "source": [
    "<a id='section2d'></a>\n",
    "### 4. Select a Solution\n",
    "As the single solution looks straight-forward (since the problem is pretty easy), we can select it and proceed.\n",
    "\n",
    "<a id='section2e'></a>\n",
    "### 5. Implement the Solution\n",
    "Write the Algorithm Plan as comments."
   ]
  },
  {
   "cell_type": "code",
   "execution_count": null,
   "outputs": [],
   "source": [
    "# write Algorithm plan here"
   ],
   "metadata": {
    "collapsed": false,
    "pycharm": {
     "name": "#%%\n"
    }
   }
  },
  {
   "cell_type": "markdown",
   "source": [
    "<a id='section3'></a>\n",
    "## 3. Problem Solution\n",
    "\n",
    "<a id='section3a'></a>\n",
    "### Programming Step 1: Get input and store it in variables"
   ],
   "metadata": {
    "collapsed": false,
    "pycharm": {
     "name": "#%% md\n"
    }
   }
  },
  {
   "cell_type": "code",
   "execution_count": null,
   "outputs": [],
   "source": [
    "len1 = input(...)\n",
    "ang1 = input(...)\n",
    "len2 = input(...)\n",
    "ang2 = input(...)\n",
    "\n",
    "print..."
   ],
   "metadata": {
    "collapsed": false,
    "pycharm": {
     "name": "#%%\n"
    }
   }
  },
  {
   "cell_type": "markdown",
   "source": [
    "#### <a id='section3b'></a>\n",
    "### Programming Step 2 – Implement calculation of $\\Delta x_1$ and $\\Delta y_1$ from the inputs and test"
   ],
   "metadata": {
    "collapsed": false,
    "pycharm": {
     "name": "#%% md\n"
    }
   }
  },
  {
   "cell_type": "code",
   "execution_count": null,
   "outputs": [],
   "source": [
    "dx1 = ...\n",
    "dy1 = ..."
   ],
   "metadata": {
    "collapsed": false,
    "pycharm": {
     "name": "#%%\n"
    }
   }
  },
  {
   "cell_type": "markdown",
   "source": [
    "Hmm ..."
   ],
   "metadata": {
    "collapsed": false,
    "pycharm": {
     "name": "#%% md\n"
    }
   }
  },
  {
   "cell_type": "code",
   "execution_count": null,
   "outputs": [],
   "source": [
    "import...\n",
    "\n",
    "len1 = input(...)\n",
    "ang1 = input(...)\n",
    "len2 = input(...)\n",
    "ang2 = input(...)\n",
    "\n",
    "print...\n",
    "\n",
    "dx1 = ...\n",
    "dy1 = ..."
   ],
   "metadata": {
    "collapsed": false,
    "pycharm": {
     "name": "#%%\n"
    }
   }
  },
  {
   "cell_type": "markdown",
   "source": [
    "#### Houston, we still have a problem."
   ],
   "metadata": {
    "collapsed": false,
    "pycharm": {
     "name": "#%% md\n"
    }
   }
  },
  {
   "cell_type": "code",
   "execution_count": null,
   "outputs": [],
   "source": [
    "import...\n",
    "\n",
    "len1 = input(...)\n",
    "ang1 = input(...)\n",
    "len2 = input(...)\n",
    "ang2 = input(...)\n",
    "\n",
    "print...\n",
    "\n",
    "dx1 = ...\n",
    "dy1 = ..."
   ],
   "metadata": {
    "collapsed": false,
    "pycharm": {
     "name": "#%%\n"
    }
   }
  },
  {
   "cell_type": "markdown",
   "source": [
    "What is going on?\n",
    "\n",
    "Turns out we didn't do Step 1 correctly ... can someone tell me what the problem is?"
   ],
   "metadata": {
    "collapsed": false,
    "pycharm": {
     "name": "#%% md\n"
    }
   }
  },
  {
   "cell_type": "code",
   "execution_count": null,
   "outputs": [],
   "source": [
    "import...\n",
    "\n",
    "len1 = input(...)\n",
    "ang1 = input(...)\n",
    "len2 = input(...)\n",
    "ang2 = input(...)\n",
    "\n",
    "print...\n",
    "\n",
    "dx1 = ...\n",
    "dy1 = ...\n",
    "\n",
    "print(dx1, dx2)"
   ],
   "metadata": {
    "collapsed": false,
    "pycharm": {
     "name": "#%%\n"
    }
   }
  },
  {
   "cell_type": "markdown",
   "source": [
    "OK, we got answers out. Are they correct? This is supposed to to be the x and y coordinates of the end of arm 1. Can they be negative?\n",
    "\n",
    "Let's see if we are using the functions correctly."
   ],
   "metadata": {
    "collapsed": false,
    "pycharm": {
     "name": "#%% md\n"
    }
   }
  },
  {
   "cell_type": "code",
   "execution_count": null,
   "outputs": [],
   "source": [
    "help..."
   ],
   "metadata": {
    "collapsed": false,
    "pycharm": {
     "name": "#%%\n"
    }
   }
  },
  {
   "cell_type": "code",
   "execution_count": null,
   "outputs": [],
   "source": [
    "help..."
   ],
   "metadata": {
    "collapsed": false,
    "pycharm": {
     "name": "#%%\n"
    }
   }
  },
  {
   "cell_type": "code",
   "execution_count": null,
   "outputs": [],
   "source": [
    "import...\n",
    "\n",
    "len1 = input(...)\n",
    "ang1 = input(...)\n",
    "len2 = input(...)\n",
    "ang2 = input(...)\n",
    "\n",
    "print...\n",
    "\n",
    "dx1 = ...\n",
    "dy1 = ...\n",
    "\n",
    "print(dx1, dx2)"
   ],
   "metadata": {
    "collapsed": false,
    "pycharm": {
     "name": "#%%\n"
    }
   }
  },
  {
   "cell_type": "markdown",
   "source": [
    "Is this right? Try some other values.\n",
    "\n",
    "<div class=\"alert alert-block alert-info\">\n",
    "<big><b>That was kind of frustrating.</b></big>\n",
    "\n",
    "The bad news is that this is kind of what programming is like. You get better - you probably won't make all these mistakes by the end of the course - but you will be spending most of your time trying to figure out what is wrong. That is why it is really important to test small pieces of code. Otherwise, you will be stuck with no idea where to even start.\n",
    "</div>\n",
    "\n",
    "<a id='section3c'></a>\n",
    "### Programming Step 3 – Implement calculation of $\\Delta x_2$ and $\\Delta y_2$ from the inputs and test"
   ],
   "metadata": {
    "collapsed": false,
    "pycharm": {
     "name": "#%% md\n"
    }
   }
  },
  {
   "cell_type": "markdown",
   "source": [
    "Is this OK? Is this good code? The calculations of dx1 and dx2 look awfully similar. Same with dy1 and dy2. Let’s go back and write functions (“re-factor”)."
   ],
   "metadata": {
    "collapsed": false,
    "pycharm": {
     "name": "#%% md\n"
    }
   }
  },
  {
   "cell_type": "code",
   "execution_count": 1,
   "id": "1fbab198",
   "metadata": {},
   "outputs": [
    {
     "ename": "IndentationError",
     "evalue": "expected an indented block (384123400.py, line 7)",
     "output_type": "error",
     "traceback": [
      "\u001B[1;36m  File \u001B[1;32m\"C:\\Users\\josep\\AppData\\Local\\Temp\\ipykernel_36520\\384123400.py\"\u001B[1;36m, line \u001B[1;32m7\u001B[0m\n\u001B[1;33m    def y_forward_kinematics(length, angle):\u001B[0m\n\u001B[1;37m      ^\u001B[0m\n\u001B[1;31mIndentationError\u001B[0m\u001B[1;31m:\u001B[0m expected an indented block\n"
     ]
    }
   ],
   "source": [
    "#import something math-related\n",
    "\n",
    "def x_forward_kinematics(length, angle):\n",
    "    #write your commented code here!\n",
    "    #return something\n",
    "    \n",
    "def y_forward_kinematics(length, angle):\n",
    "    #write your commented code here!\n",
    "    # return something\n",
    "\n",
    "def calculate_end_effector_position(len1, ang1, len2, ang2):\n",
    "    #write your commented code here!\n",
    "    #return something\n",
    "\n",
    "# get lengths and angles and store - ask the user to provide these values\n",
    "#think about units too!\n",
    "len1 = \n",
    "ang1 = \n",
    "len2 = \n",
    "ang2 = \n",
    "\n",
    "# calculate end of arm 1\n",
    "\n",
    "# calculate end of arm 2\n",
    "\n",
    "# add up the components"
   ]
  },
  {
   "cell_type": "markdown",
   "source": [
    "#### Test again – does it work?\n",
    "\n",
    "OK, now ready for the final step.\n",
    "\n",
    "<a id='section3d'></a>\n",
    "### Programming Step 4 – Package the solution in a reusable function"
   ],
   "metadata": {
    "collapsed": false,
    "pycharm": {
     "name": "#%% md\n"
    }
   }
  },
  {
   "cell_type": "code",
   "execution_count": null,
   "outputs": [],
   "source": [
    "# improve on code from above cell"
   ],
   "metadata": {
    "collapsed": false,
    "pycharm": {
     "name": "#%%\n"
    }
   }
  },
  {
   "cell_type": "markdown",
   "source": [
    "<a id='section3e'></a>\n",
    "### Programming Step 5 – Run tests\n",
    "Run all of our tests to make sure it is working.\n",
    "\n",
    "#### Test Case 1\n",
    "`len1 = 1, len2 = 1, ang1 = 60, ang2 = 30`\n",
    "<br>\n",
    "<img src=\"images/Test1.png\" alt=\"drawing\" width=\"400\"/>\n",
    "<br>\n",
    "End effector position `x = 0.5, y = 1.87`"
   ],
   "metadata": {
    "collapsed": false,
    "pycharm": {
     "name": "#%% md\n"
    }
   }
  },
  {
   "cell_type": "code",
   "execution_count": null,
   "outputs": [],
   "source": [
    "len1 = float(input(\"Length of arm 1:\")) # use 1 for the first test case\n",
    "ang1 = float(input(\"Angle of arm 1:\"))  # use 60 degrees\n",
    "len2 = float(input(\"Length of arm 2:\")) # use 1 for the first test case\n",
    "ang2 = float(input(\"Angle of arm 2:\"))  # use 30 degrees\n",
    "calculate_end_effector_position(len1, ang1, len2, ang2)"
   ],
   "metadata": {
    "collapsed": false,
    "pycharm": {
     "name": "#%%\n"
    }
   }
  },
  {
   "cell_type": "markdown",
   "source": [
    "#### Test Case 2\n",
    "`len1 = 1, len2 = 1, ang1 = 60, ang2 = -30`\n",
    "<br>\n",
    "<img src=\"images/Test2.png\" alt=\"drawing\" width=\"400\"/>\n",
    "<br>\n",
    "End effector position `x = 1.37, y = 1.37`"
   ],
   "metadata": {
    "collapsed": false,
    "pycharm": {
     "name": "#%% md\n"
    }
   }
  },
  {
   "cell_type": "code",
   "execution_count": null,
   "outputs": [],
   "source": [
    "len1 = float(input(\"Length of arm 1:\")) # use 1 for the first test case\n",
    "ang1 = float(input(\"Angle of arm 1:\"))  # use 60 degrees\n",
    "len2 = float(input(\"Length of arm 2:\")) # use 1 for the second test case\n",
    "ang2 = float(input(\"Angle of arm 2:\"))  # use -30 degrees\n",
    "calculate_end_effector_position(len1, ang1, len2, ang2)"
   ],
   "metadata": {
    "collapsed": false,
    "pycharm": {
     "name": "#%%\n"
    }
   }
  }
 ],
 "metadata": {
  "kernelspec": {
   "display_name": "Python 3 (ipykernel)",
   "language": "python",
   "name": "python3"
  },
  "language_info": {
   "codemirror_mode": {
    "name": "ipython",
    "version": 3
   },
   "file_extension": ".py",
   "mimetype": "text/x-python",
   "name": "python",
   "nbconvert_exporter": "python",
   "pygments_lexer": "ipython3",
   "version": "3.7.11"
  }
 },
 "nbformat": 4,
 "nbformat_minor": 5
}