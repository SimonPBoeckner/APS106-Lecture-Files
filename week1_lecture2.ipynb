{
 "cells": [
  {
   "cell_type": "markdown",
   "id": "35d005c4",
   "metadata": {},
   "source": [
    "# APS106 Lecture Notes - Week 1, Lecture 2\n",
    "# The Coding Toolbox\n",
    "\n",
    "### This Week\n",
    "| Lecture | Topics | Reading |\n",
    "| --- | --- | --- | \n",
    "| 1.1 | Introduction | |\n",
    "| **1.2** | **The Coding Toolbox** | **Chapter 1.1-1.8**  |\n",
    "| 1.3 | Variables, Expressions, and Operators | Chapter 2 |\n",
    "\n",
    "### Lecture Structure\n",
    "1. [Exploring Cell Types in Jupyter](#section1)\n",
    "2. [Executing Code in Jupyter](#section2)\n",
    "3. [Helpful Jupyter Tips](#section3)"
   ]
  },
  {
   "cell_type": "markdown",
   "id": "47af6f41",
   "metadata": {
    "jp-MarkdownHeadingCollapsed": true
   },
   "source": [
    "<a id='section1'></a>\n",
    "## 1. Exploring Cell Types in Jupyter\n",
    "\n",
    "Jupyter Notebooks are split into discrete \"cells\".  This is a cell, and so is the block of text above, and the piece of Python code below.  \n",
    "\n",
    "Each cell can be run indepedently by hitting the Run button in the top toolbar or going to Run -> Run All Cells\n",
    "\n",
    "Cells can either be a \"Code\" cell, or a \"Markdown\" cell.  To change a cell type, highlight that cell, and select the type you want within the dropdown menu above (that either says \"Code\" or \"Markdown\")\n",
    " \n",
    "Markdown is a popular markup language similar to HTML, and is used in Jupyter Notebooks to supplement them with text, images, and other visualisations.  This cell, and the cell above (containing the title and Lecture Structure), are both Markdown cells.\n",
    "\n",
    "More information on Markdown can be found here: https://docs.github.com/en/get-started/writing-on-github/getting-started-with-writing-and-formatting-on-github\n",
    "\n",
    "Code cells contain executable Python code, as seen below:"
   ]
  },
  {
   "cell_type": "code",
   "execution_count": null,
   "id": "71610474",
   "metadata": {},
   "outputs": [],
   "source": [
    "#anything after a hashtag (#) is called a 'comment' and is ignored by Python\n",
    "\n",
    "print(\"Hello World\") #this cell can be executed (or run) by hitting the Run button"
   ]
  },
  {
   "cell_type": "markdown",
   "id": "f8c2701e",
   "metadata": {},
   "source": [
    "Shortcuts on Jupyter (shift enter) \n",
    "markdown etc.\n",
    "Cells are linked, variables common across cells\n",
    "Update cells down doesn’t update cells above\n",
    "Kernel restarting\n",
    "Clear output and variables"
   ]
  },
  {
   "cell_type": "markdown",
   "id": "1daaffd6",
   "metadata": {},
   "source": [
    "<a id='section2'></a>\n",
    "## 2. Executing Code in Jupyter\n",
    "\n",
    "We will learn more about the print function next week, but all you need to know today is that it will print (or output) what we've put inside the brackets. \n",
    "\n",
    "Execute the cell below by highlighting the cell and hitting the Run button.  Notice the message displayed below the cell that was executed."
   ]
  },
  {
   "cell_type": "code",
   "execution_count": null,
   "id": "b0247d6a",
   "metadata": {
    "scrolled": true
   },
   "outputs": [],
   "source": [
    "print(\"Another Hello\")"
   ]
  },
  {
   "cell_type": "markdown",
   "id": "6d8422b0",
   "metadata": {},
   "source": [
    "Execute the cell below instead by pressing Shift & Enter together.  This shortcut may save you some time!"
   ]
  },
  {
   "cell_type": "code",
   "execution_count": null,
   "id": "9035b330",
   "metadata": {},
   "outputs": [],
   "source": [
    "print(\"A Shortcut to Run cells\")"
   ]
  },
  {
   "cell_type": "markdown",
   "id": "f051f9d3",
   "metadata": {},
   "source": [
    "So far we have just executed 1 cell at a time.  \n",
    "\n",
    "To execute all cells in the Notebook at once, you can select Run -> Run All Cells\n",
    "\n",
    "You can also choose to run only the cells above or below the cell you have selected.\n",
    "\n",
    "Select Run -> Run All Cells to see all 3 cells execute and output something below."
   ]
  },
  {
   "cell_type": "code",
   "execution_count": null,
   "id": "72ff6fca",
   "metadata": {},
   "outputs": [],
   "source": [
    "print(\"This will print,\")"
   ]
  },
  {
   "cell_type": "code",
   "execution_count": null,
   "id": "ab208f4e",
   "metadata": {},
   "outputs": [],
   "source": [
    "print(\"so will this...\")"
   ]
  },
  {
   "cell_type": "code",
   "execution_count": null,
   "id": "c71b3e37",
   "metadata": {},
   "outputs": [],
   "source": [
    "print(\"and so will this!\")"
   ]
  },
  {
   "cell_type": "markdown",
   "id": "513bd066",
   "metadata": {},
   "source": [
    "<a id='section3'></a>\n",
    "## 3. Helpful Jupyter Tips"
   ]
  },
  {
   "cell_type": "markdown",
   "id": "1505c05b",
   "metadata": {},
   "source": [
    "### Clearing Output vs. Restarting the Kernel\n",
    "\n",
    "After executing the 3 print statements above, select Edit -> Clear Outputs of All Cells.\n",
    "\n",
    "Notice anything?  This clears everything that has been output or displayed in your Notebook.\n",
    "\n",
    "HOWEVER, this only clears what has been output and does not clear your memory.  In order to wipe current data you need to Restart the kernel. By restarting the kernel, you will get a clean slate of memory to work with. \n",
    "\n",
    "You may also need to Restart your kernel if you find Jupyter unresponsive (or stuck in an infinite loop).  \n",
    "\n",
    "To restart your kernel, select Kernel -> Restart Kernel."
   ]
  },
  {
   "cell_type": "markdown",
   "id": "f7feb858",
   "metadata": {},
   "source": [
    "### Order of Execution Matters\n",
    "\n",
    "In a .py file, everything runs in sequence and as written.  In a Jupyter Notebook, the executing cells out of order (if not running them all from start to finish) can lead to unexpected and unintended errors.  \n",
    "\n",
    "Run the cells below in the following sequence:\n",
    "CELL 1 -> \n",
    "CELL 2 -> \n",
    "CELL 3 -> \n",
    "CELL 2\n",
    "\n",
    "Notice the name changes the second time we run Cell 2.  Be careful - running cells out of order can lead to confusing errors that are hard to de-bug."
   ]
  },
  {
   "cell_type": "code",
   "execution_count": 19,
   "id": "1eb96e64",
   "metadata": {},
   "outputs": [],
   "source": [
    "#CELL 1\n",
    "\n",
    "name = 'Katia'  "
   ]
  },
  {
   "cell_type": "code",
   "execution_count": 22,
   "id": "e77de281",
   "metadata": {},
   "outputs": [
    {
     "name": "stdout",
     "output_type": "stream",
     "text": [
      "Hi Joseph\n"
     ]
    }
   ],
   "source": [
    "#CELL 2\n",
    "\n",
    "print(\"Hi\", name)"
   ]
  },
  {
   "cell_type": "code",
   "execution_count": 21,
   "id": "4c9b892a",
   "metadata": {},
   "outputs": [],
   "source": [
    "#CELL 3\n",
    "\n",
    "name = 'Joseph'"
   ]
  },
  {
   "cell_type": "markdown",
   "id": "b2d23a5c",
   "metadata": {},
   "source": [
    "### Moving Cells\n",
    "\n",
    "You can move cells by selecting them and then by using the Up and Down arrows on the top right of the Cell or in the toolbar above. "
   ]
  },
  {
   "cell_type": "markdown",
   "id": "d3e76511",
   "metadata": {},
   "source": [
    "### Use Keyboard Shortcuts\n",
    "\n",
    "Click on the Help dropdown menu and select Keyboard shortcuts to see what is available.  \n",
    "\n",
    "Aside from Shift-Enter to execute cells, another common shortcut is double pressing the D key to delete a cell.  Highlight the cell below and give it a try.  You can always go to Edit -> Undo if you need to."
   ]
  }
 ],
 "metadata": {
  "kernelspec": {
   "display_name": "Python 3 (ipykernel)",
   "language": "python",
   "name": "python3"
  },
  "language_info": {
   "codemirror_mode": {
    "name": "ipython",
    "version": 3
   },
   "file_extension": ".py",
   "mimetype": "text/x-python",
   "name": "python",
   "nbconvert_exporter": "python",
   "pygments_lexer": "ipython3",
   "version": "3.10.9"
  }
 },
 "nbformat": 4,
 "nbformat_minor": 5
}
