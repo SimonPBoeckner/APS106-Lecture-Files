{
 "cells": [
  {
   "cell_type": "markdown",
   "metadata": {},
   "source": [
    "# APS106 Lecture Notes - Week 5, Lecture 1\n",
    "# Strings, Strings, Everywhere\n",
    "\n",
    "### Lecture Structure\n",
    "1. [Type Conversions & String Operations](#section1)\n",
    "2. [String Indexing and Slicing](#section2)\n",
    "3. [Modifying Strings](#section3)\n",
    "4. [String Methods](#section4)"
   ]
  },
  {
   "cell_type": "markdown",
   "metadata": {},
   "source": [
    "## Breakout Session Recap\n",
    "\n",
    "Ask the user how many times they would like to see the string ”knock knock knock… Penny” repeated.  Then, print it!  \n",
    "\n",
    "Try not to use loops (instead use String tools you learned).  Are you able to customize the name?!\n",
    "\n",
    "**Hints for getting started:**\n",
    "\n",
    "Ask the user for a number of times (think: input function)\n",
    "\n",
    "Remember input function returns a string… \n",
    "\n",
    "Repeated string (think: concatenation, * operator might be useful)\n",
    "\n",
    "Make the output readable (think: escape characters)"
   ]
  },
  {
   "cell_type": "code",
   "execution_count": 1,
   "metadata": {
    "scrolled": true
   },
   "outputs": [
    {
     "name": "stdout",
     "output_type": "stream",
     "text": [
      "Knock knock knock... Simon\n",
      "Knock knock knock... Simon\n",
      "\n"
     ]
    }
   ],
   "source": [
    "name = input('What name?')\n",
    "repeat = int(input('How many times should we knock?'))\n",
    "print((\"Knock knock knock... \" + name + '\\n') * repeat)"
   ]
  },
  {
   "cell_type": "markdown",
   "metadata": {},
   "source": [
    "<a id='section1'></a>\n",
    "## 1. Recap: Type Conversions & String Operations\n",
    "**Convert to str**\n",
    "\n",
    "The builtin function `str` takes any value and returns a string representation of that value."
   ]
  },
  {
   "cell_type": "code",
   "execution_count": 2,
   "metadata": {
    "scrolled": true
   },
   "outputs": [
    {
     "name": "stdout",
     "output_type": "stream",
     "text": [
      "22\n"
     ]
    }
   ],
   "source": [
    "str(2)\n",
    "my_str = str(2) + str(2)\n",
    "print(my_str)"
   ]
  },
  {
   "cell_type": "code",
   "execution_count": 3,
   "metadata": {},
   "outputs": [
    {
     "name": "stdout",
     "output_type": "stream",
     "text": [
      "Happy Birthday Seb\n"
     ]
    }
   ],
   "source": [
    "name = \"Seb\"\n",
    "message = \"Happy Birthday \" + name\n",
    "print(message)"
   ]
  },
  {
   "cell_type": "code",
   "execution_count": 4,
   "metadata": {},
   "outputs": [
    {
     "name": "stdout",
     "output_type": "stream",
     "text": [
      "NomNomNomNomNom\n"
     ]
    }
   ],
   "source": [
    "name = 'Nom' * 5\n",
    "print(name)"
   ]
  },
  {
   "cell_type": "code",
   "execution_count": 5,
   "metadata": {},
   "outputs": [
    {
     "name": "stdout",
     "output_type": "stream",
     "text": [
      "catdogdog\n"
     ]
    }
   ],
   "source": [
    "cat_dog = 'cat' + 'dog' * 2\n",
    "print(cat_dog)"
   ]
  },
  {
   "cell_type": "code",
   "execution_count": 6,
   "metadata": {},
   "outputs": [
    {
     "name": "stdout",
     "output_type": "stream",
     "text": [
      "a b c\n"
     ]
    }
   ],
   "source": [
    "#Remember, these are not equivalent:\n",
    "\n",
    "some_string = print('a', 'b', 'c') #is likely a mistake - but why?  what is some_string?\n",
    "\n",
    "some_string = 'a' + 'b' + 'c' #this concatenates 3 strings together to make 'abc'"
   ]
  },
  {
   "cell_type": "markdown",
   "metadata": {},
   "source": [
    "<a id='section2'></a>\n",
    "## 2. str Indexing and Slicing\n",
    "\n",
    "**Indexing**\n",
    "\n",
    "An index is a position within the string. Positive indices count from the left-hand side with the first character at index 0, the second at index 1, and so on. Negative indices count from the right-hand side with the last character at index -1, the second last at index -2, and so on. For the string \"I Love Cats\", the indices are:\n",
    "\n",
    "| 0 | 1 | 2 | 3 | 4 | 5 | 6 | 7 | 8 | 9 | 10 |\n",
    "| --- | --- | ---| --- | --- | ---| --- | --- | ---| --- | --- | \n",
    "| I |  | L | o | v | e | | C | a | t | s |\n",
    "| -11 | -10 | -9 | -8 | -7 | -6 | -5 | -4 | -3 | -2 | -1 | \n",
    "\n",
    "The first character of the string is at index 0 and can be accessed using square brackets."
   ]
  },
  {
   "cell_type": "code",
   "execution_count": 8,
   "metadata": {},
   "outputs": [
    {
     "name": "stdout",
     "output_type": "stream",
     "text": [
      "I\n"
     ]
    }
   ],
   "source": [
    "s = \"I Love Cats\"\n",
    "print(s[0])"
   ]
  },
  {
   "cell_type": "code",
   "execution_count": 10,
   "metadata": {},
   "outputs": [
    {
     "name": "stdout",
     "output_type": "stream",
     "text": [
      " \n"
     ]
    }
   ],
   "source": [
    "print(s[1])"
   ]
  },
  {
   "cell_type": "markdown",
   "metadata": {},
   "source": [
    "Negative indices are used to count from the end (from the right-hand side):"
   ]
  },
  {
   "cell_type": "code",
   "execution_count": 11,
   "metadata": {},
   "outputs": [
    {
     "name": "stdout",
     "output_type": "stream",
     "text": [
      "s\n"
     ]
    }
   ],
   "source": [
    "print(s[-1])"
   ]
  },
  {
   "cell_type": "code",
   "execution_count": 12,
   "metadata": {},
   "outputs": [
    {
     "name": "stdout",
     "output_type": "stream",
     "text": [
      "t\n"
     ]
    }
   ],
   "source": [
    "print(s[-2])"
   ]
  },
  {
   "cell_type": "markdown",
   "metadata": {},
   "source": [
    "**Slicing Strings**\n",
    "\n",
    "| 0 | 1 | 2 | 3 | 4 | 5 | 6 | 7 | 8 | 9 | 10 |\n",
    "| --- | --- | ---| --- | --- | ---| --- | --- | ---| --- | --- | \n",
    "| I |  | L | o | v | e | | C | a | t | s |\n",
    "| -11 | -10 | -9 | -8 | -7 | -6 | -5 | -4 | -3 | -2 | -1 | \n",
    "\n",
    "We can get at more than one character using slicing. A slice is a substring from the start index up to **but not including** the end index. For example:"
   ]
  },
  {
   "cell_type": "code",
   "execution_count": 13,
   "metadata": {},
   "outputs": [
    {
     "name": "stdout",
     "output_type": "stream",
     "text": [
      "I L\n",
      "I L\n"
     ]
    }
   ],
   "source": [
    "print(s[0:3])\n",
    "sub_str = s[0:3]\n",
    "print(sub_str)"
   ]
  },
  {
   "cell_type": "code",
   "execution_count": 14,
   "metadata": {},
   "outputs": [
    {
     "name": "stdout",
     "output_type": "stream",
     "text": [
      "this contains something:   evo\n",
      "this does not:  \n"
     ]
    }
   ],
   "source": [
    "#when reverse slicing, think about your start and end points\n",
    "print('this contains something: ', s[6:2:-1])\n",
    "print('this does not: ', (s[6:2])) #reading in wrong direction"
   ]
  },
  {
   "cell_type": "markdown",
   "metadata": {},
   "source": [
    "What if you want to display all characters from an index to the end of the string, but you don’t want to manually count each character?\n",
    "\n",
    "There are multiple ways to do this.\n",
    "\n",
    "1. Find the length of the string. Then you can select characters from the index you want to the end."
   ]
  },
  {
   "cell_type": "code",
   "execution_count": 15,
   "metadata": {},
   "outputs": [
    {
     "name": "stdout",
     "output_type": "stream",
     "text": [
      "11\n"
     ]
    }
   ],
   "source": [
    "print(len(s))"
   ]
  },
  {
   "cell_type": "code",
   "execution_count": 16,
   "metadata": {},
   "outputs": [
    {
     "name": "stdout",
     "output_type": "stream",
     "text": [
      "Cats\n"
     ]
    }
   ],
   "source": [
    "print(s[7:len(s)])"
   ]
  },
  {
   "cell_type": "markdown",
   "metadata": {},
   "source": [
    "2. Use the default index value which *is* len()! If the 'end' index is left empty, the default is to go to the end of the string."
   ]
  },
  {
   "cell_type": "code",
   "execution_count": 17,
   "metadata": {},
   "outputs": [
    {
     "name": "stdout",
     "output_type": "stream",
     "text": [
      "Cats\n"
     ]
    }
   ],
   "source": [
    "print(s[7:])"
   ]
  },
  {
   "cell_type": "markdown",
   "metadata": {},
   "source": [
    "Similarly, if the 'start' index is omitted, the slice starts from index 0:"
   ]
  },
  {
   "cell_type": "code",
   "execution_count": 18,
   "metadata": {},
   "outputs": [
    {
     "name": "stdout",
     "output_type": "stream",
     "text": [
      "sliced: I Love Cats\n",
      "original: I Love Cats\n"
     ]
    }
   ],
   "source": [
    "print('sliced:', s[:])\n",
    "print('original:', s)"
   ]
  },
  {
   "cell_type": "markdown",
   "metadata": {},
   "source": [
    "You can also slice using negative indices."
   ]
  },
  {
   "cell_type": "code",
   "execution_count": 19,
   "metadata": {},
   "outputs": [
    {
     "name": "stdout",
     "output_type": "stream",
     "text": [
      " Lo\n"
     ]
    }
   ],
   "source": [
    "print(s[1:4])"
   ]
  },
  {
   "cell_type": "code",
   "execution_count": 20,
   "metadata": {},
   "outputs": [
    {
     "name": "stdout",
     "output_type": "stream",
     "text": [
      " Love \n"
     ]
    }
   ],
   "source": [
    "print(s[1:-4]) #notice the space before and after in the string below"
   ]
  },
  {
   "cell_type": "code",
   "execution_count": 21,
   "metadata": {
    "scrolled": true
   },
   "outputs": [
    {
     "name": "stdout",
     "output_type": "stream",
     "text": [
      "I L\n",
      "\n"
     ]
    }
   ],
   "source": [
    "print(s[-11:-8])\n",
    "print(s[-11:-8:-1])  #reading in wrong direction"
   ]
  },
  {
   "cell_type": "code",
   "execution_count": 22,
   "metadata": {},
   "outputs": [
    {
     "name": "stdout",
     "output_type": "stream",
     "text": [
      "Love Cat\n"
     ]
    }
   ],
   "source": [
    "print(s[2:-1])"
   ]
  },
  {
   "cell_type": "markdown",
   "metadata": {},
   "source": [
    "**Another Example**"
   ]
  },
  {
   "cell_type": "code",
   "execution_count": 23,
   "metadata": {},
   "outputs": [],
   "source": [
    "x = \"Today is: 24/01/2024\""
   ]
  },
  {
   "cell_type": "code",
   "execution_count": 24,
   "metadata": {},
   "outputs": [
    {
     "name": "stdout",
     "output_type": "stream",
     "text": [
      "01\n"
     ]
    }
   ],
   "source": [
    "print(x[13:15])"
   ]
  },
  {
   "cell_type": "code",
   "execution_count": 25,
   "metadata": {},
   "outputs": [],
   "source": [
    "date = input(\"Enter a date (YYYYMMDD): \")"
   ]
  },
  {
   "cell_type": "markdown",
   "metadata": {},
   "source": [
    "How would you extract the month?"
   ]
  },
  {
   "cell_type": "code",
   "execution_count": 26,
   "metadata": {},
   "outputs": [
    {
     "name": "stdout",
     "output_type": "stream",
     "text": [
      "09\n"
     ]
    }
   ],
   "source": [
    "month = date[4:6]\n",
    "print(month)"
   ]
  },
  {
   "cell_type": "markdown",
   "metadata": {},
   "source": [
    "The day?"
   ]
  },
  {
   "cell_type": "code",
   "execution_count": 27,
   "metadata": {},
   "outputs": [
    {
     "name": "stdout",
     "output_type": "stream",
     "text": [
      "14\n"
     ]
    }
   ],
   "source": [
    "day = date[6:8]\n",
    "print(day)"
   ]
  },
  {
   "cell_type": "markdown",
   "metadata": {},
   "source": [
    "The year"
   ]
  },
  {
   "cell_type": "code",
   "execution_count": 28,
   "metadata": {},
   "outputs": [
    {
     "name": "stdout",
     "output_type": "stream",
     "text": [
      "2025\n"
     ]
    }
   ],
   "source": [
    "year = date[0:4]\n",
    "print(year)"
   ]
  },
  {
   "cell_type": "code",
   "execution_count": 29,
   "metadata": {},
   "outputs": [
    {
     "name": "stdout",
     "output_type": "stream",
     "text": [
      "The date in day/month/year format: 14/09/2025\n"
     ]
    }
   ],
   "source": [
    "date = input(\"Enter a date (YYYYMMDD): \")\n",
    "year = date[0:4]\n",
    "month = date[4:6]\n",
    "day = date[6:8]\n",
    "\n",
    "print(\"The date in day/month/year format: \" + day + \"/\" + month + \"/\" + year)"
   ]
  },
  {
   "cell_type": "markdown",
   "metadata": {},
   "source": [
    "We can slice (select) every nth character by providing three arguments\n",
    "Uses the syntax [start : finish : step], where:\n",
    "\n",
    "- start is the index where we start the slice\n",
    "\n",
    "- finish is the index of one after where we end the slice\n",
    "\n",
    "- step is how much we count by between each character \n",
    "\n",
    "When step is not provided, it defaults to 1\n",
    "\n",
    "| 0 | 1 | 2 | 3 | 4 | 5 | 6 | 7 | 8 | 9 | 10 |\n",
    "| --- | --- | ---| --- | --- | ---| --- | --- | ---| --- | --- | \n",
    "| I |  | L | o | v | e | | C | a | t | s |\n",
    "| -11 | -10 | -9 | -8 | -7 | -6 | -5 | -4 | -3 | -2 | -1 | "
   ]
  },
  {
   "cell_type": "code",
   "execution_count": 30,
   "metadata": {},
   "outputs": [
    {
     "name": "stdout",
     "output_type": "stream",
     "text": [
      "I Love Cats\n"
     ]
    }
   ],
   "source": [
    "print(s[::])"
   ]
  },
  {
   "cell_type": "code",
   "execution_count": 31,
   "metadata": {},
   "outputs": [
    {
     "name": "stdout",
     "output_type": "stream",
     "text": [
      "ILv as\n",
      "Lea\n"
     ]
    }
   ],
   "source": [
    "print(s[::2])\n",
    "print(s[2:9:3])"
   ]
  },
  {
   "cell_type": "markdown",
   "metadata": {},
   "source": [
    "<a id='section3'></a>\n",
    "## 3. Modifying Strings\n",
    "\n",
    "The slicing and indexing operations **do not modify** the string that they act on, so the string that the variable refers to is unchanged by the operations above. \n",
    "\n",
    "**In fact, we cannot change a string at all**. String variables are *immutable*: that means that they cannot be changed.\n",
    "\n",
    "Operations like the following result in errors:"
   ]
  },
  {
   "cell_type": "code",
   "execution_count": 32,
   "metadata": {},
   "outputs": [
    {
     "ename": "TypeError",
     "evalue": "'str' object does not support item assignment",
     "output_type": "error",
     "traceback": [
      "\u001b[0;31m---------------------------------------------------------------------------\u001b[0m",
      "\u001b[0;31mTypeError\u001b[0m                                 Traceback (most recent call last)",
      "Cell \u001b[0;32mIn[32], line 2\u001b[0m\n\u001b[1;32m      1\u001b[0m x \u001b[38;5;241m=\u001b[39m \u001b[38;5;124m\"\u001b[39m\u001b[38;5;124mThis sounds like a bad idea\u001b[39m\u001b[38;5;124m\"\u001b[39m\n\u001b[0;32m----> 2\u001b[0m x[\u001b[38;5;241m0\u001b[39m:\u001b[38;5;241m4\u001b[39m] \u001b[38;5;241m=\u001b[39m \u001b[38;5;124m\"\u001b[39m\u001b[38;5;124mThat\u001b[39m\u001b[38;5;124m\"\u001b[39m\n",
      "\u001b[0;31mTypeError\u001b[0m: 'str' object does not support item assignment"
     ]
    }
   ],
   "source": [
    "x = \"This sounds like a bad idea\"\n",
    "x[0:4] = \"That\""
   ]
  },
  {
   "cell_type": "markdown",
   "metadata": {},
   "source": [
    "Given that we start with `s = \"I Love Cats\"` and we would like change string s to refer to \"I Loved Cats\". How might we do that?\n"
   ]
  },
  {
   "cell_type": "code",
   "execution_count": 33,
   "metadata": {},
   "outputs": [
    {
     "name": "stdout",
     "output_type": "stream",
     "text": [
      "I Love Cats\n",
      "I Loved Cats\n"
     ]
    }
   ],
   "source": [
    "s = \"I Love Cats\"\n",
    "s_new = s[:6] + 'd' + s[6:]\n",
    "print(s)\n",
    "print(s_new)"
   ]
  },
  {
   "cell_type": "markdown",
   "metadata": {},
   "source": [
    "Variable `s_new` is assigned to the new string: `s_new = s[:6] + 'd' + s[6:]`. \n",
    "\n",
    "Remember we cannot modify strings. We can only create a new string and change where the original variable points to.\n",
    "\n",
    "Alternatively, we could have gone directly and written:"
   ]
  },
  {
   "cell_type": "code",
   "execution_count": 34,
   "metadata": {},
   "outputs": [
    {
     "name": "stdout",
     "output_type": "stream",
     "text": [
      "I Loved Cats\n"
     ]
    }
   ],
   "source": [
    "s = \"I Love Cats\"\n",
    "s = s[:6] +'d' + s[6:]  #this now overwrites the original string s\n",
    "print(s)"
   ]
  },
  {
   "cell_type": "code",
   "execution_count": 35,
   "metadata": {},
   "outputs": [
    {
     "name": "stdout",
     "output_type": "stream",
     "text": [
      "I Like Cats\n"
     ]
    }
   ],
   "source": [
    "s = 'I Love Cats'\n",
    "s = s[:2] + 'Like' + s[6:]\n",
    "print(s)"
   ]
  },
  {
   "cell_type": "markdown",
   "metadata": {},
   "source": [
    "Q: In terms of expression evaluation and strings, what is going on in the second line?\n",
    "\n",
    "We can also use augmented operators if we want to add onto the end."
   ]
  },
  {
   "cell_type": "code",
   "execution_count": 36,
   "metadata": {
    "scrolled": true
   },
   "outputs": [
    {
     "name": "stdout",
     "output_type": "stream",
     "text": [
      "I Love Cats (or not...)\n"
     ]
    }
   ],
   "source": [
    "s = \"I Love Cats\"\n",
    "s += \" (or not...)\"\n",
    "print(s)"
   ]
  },
  {
   "cell_type": "markdown",
   "metadata": {},
   "source": [
    "<a id='section4'></a>\n",
    "## 4. str Methods\n",
    "\n",
    "**Methods**\n",
    "\n",
    "Remember methods? A method is a function that is applied to a particular object. The general form of a method call is:\n",
    "\n",
    "`object.method(arguments)`\n",
    "\n",
    "Similar to the turtle objects we’ve seen, strings are objects. Just like with turtles, there are associated methods that are valid only for those objects, i.e. tina.forward(20), tina.color(“red”)\n",
    " \n",
    "**String Methods**\n",
    "\n",
    "Consider the code:"
   ]
  },
  {
   "cell_type": "code",
   "execution_count": 37,
   "metadata": {},
   "outputs": [],
   "source": [
    "white_rabbit = \"I'm late! I'm late! For a very important date!\""
   ]
  },
  {
   "cell_type": "markdown",
   "metadata": {},
   "source": [
    "To find out which methods are inside strings, use the function `dir`:"
   ]
  },
  {
   "cell_type": "code",
   "execution_count": 38,
   "metadata": {},
   "outputs": [
    {
     "data": {
      "text/plain": [
       "['__add__',\n",
       " '__class__',\n",
       " '__contains__',\n",
       " '__delattr__',\n",
       " '__dir__',\n",
       " '__doc__',\n",
       " '__eq__',\n",
       " '__format__',\n",
       " '__ge__',\n",
       " '__getattribute__',\n",
       " '__getitem__',\n",
       " '__getnewargs__',\n",
       " '__getstate__',\n",
       " '__gt__',\n",
       " '__hash__',\n",
       " '__init__',\n",
       " '__init_subclass__',\n",
       " '__iter__',\n",
       " '__le__',\n",
       " '__len__',\n",
       " '__lt__',\n",
       " '__mod__',\n",
       " '__mul__',\n",
       " '__ne__',\n",
       " '__new__',\n",
       " '__reduce__',\n",
       " '__reduce_ex__',\n",
       " '__repr__',\n",
       " '__rmod__',\n",
       " '__rmul__',\n",
       " '__setattr__',\n",
       " '__sizeof__',\n",
       " '__str__',\n",
       " '__subclasshook__',\n",
       " 'capitalize',\n",
       " 'casefold',\n",
       " 'center',\n",
       " 'count',\n",
       " 'encode',\n",
       " 'endswith',\n",
       " 'expandtabs',\n",
       " 'find',\n",
       " 'format',\n",
       " 'format_map',\n",
       " 'index',\n",
       " 'isalnum',\n",
       " 'isalpha',\n",
       " 'isascii',\n",
       " 'isdecimal',\n",
       " 'isdigit',\n",
       " 'isidentifier',\n",
       " 'islower',\n",
       " 'isnumeric',\n",
       " 'isprintable',\n",
       " 'isspace',\n",
       " 'istitle',\n",
       " 'isupper',\n",
       " 'join',\n",
       " 'ljust',\n",
       " 'lower',\n",
       " 'lstrip',\n",
       " 'maketrans',\n",
       " 'partition',\n",
       " 'removeprefix',\n",
       " 'removesuffix',\n",
       " 'replace',\n",
       " 'rfind',\n",
       " 'rindex',\n",
       " 'rjust',\n",
       " 'rpartition',\n",
       " 'rsplit',\n",
       " 'rstrip',\n",
       " 'split',\n",
       " 'splitlines',\n",
       " 'startswith',\n",
       " 'strip',\n",
       " 'swapcase',\n",
       " 'title',\n",
       " 'translate',\n",
       " 'upper',\n",
       " 'zfill']"
      ]
     },
     "execution_count": 38,
     "metadata": {},
     "output_type": "execute_result"
    }
   ],
   "source": [
    "dir(str)"
   ]
  },
  {
   "cell_type": "markdown",
   "metadata": {},
   "source": [
    "To get information about a method, such as the lower method, use the `help` function:"
   ]
  },
  {
   "cell_type": "code",
   "execution_count": null,
   "metadata": {},
   "outputs": [],
   "source": [
    "help(str.lower)"
   ]
  },
  {
   "cell_type": "markdown",
   "metadata": {},
   "source": [
    "For many of the string methods, a new string is returned. Since strings are immutable, the original string is unchanged. For example, a lowercase version of the str that white_rabbit refers to is returned when the method lower is called:"
   ]
  },
  {
   "cell_type": "code",
   "execution_count": 39,
   "metadata": {
    "scrolled": true
   },
   "outputs": [
    {
     "name": "stdout",
     "output_type": "stream",
     "text": [
      "i'm late! i'm late! for a very important date!\n"
     ]
    }
   ],
   "source": [
    "print(white_rabbit.lower())"
   ]
  },
  {
   "cell_type": "code",
   "execution_count": 40,
   "metadata": {},
   "outputs": [
    {
     "name": "stdout",
     "output_type": "stream",
     "text": [
      "I'm late! I'm late! For a very important date!\n"
     ]
    }
   ],
   "source": [
    "print(white_rabbit)  #We just said that strings are immutable, and cannot be changed!"
   ]
  },
  {
   "cell_type": "code",
   "execution_count": 41,
   "metadata": {},
   "outputs": [
    {
     "name": "stdout",
     "output_type": "stream",
     "text": [
      "i'm late! i'm late! for a very important date!\n",
      "I'm late! I'm late! For a very important date!\n"
     ]
    }
   ],
   "source": [
    "small_rabbit = white_rabbit.lower()\n",
    "print(small_rabbit)\n",
    "print(white_rabbit)"
   ]
  },
  {
   "cell_type": "markdown",
   "metadata": {},
   "source": [
    "`white_rabbit` hasn't changed!\n",
    "\n",
    "But, if you want it to change, you can reassign the variable"
   ]
  },
  {
   "cell_type": "code",
   "execution_count": 42,
   "metadata": {},
   "outputs": [
    {
     "name": "stdout",
     "output_type": "stream",
     "text": [
      "Before:  I'm late! I'm late! For a very important date! id: 4384689200\n",
      "After:  i'm late! i'm late! for a very important date! id: 4383108016\n"
     ]
    }
   ],
   "source": [
    "white_rabbit = \"I'm late! I'm late! For a very important date!\"\n",
    "print(\"Before: \", white_rabbit, 'id:', id(white_rabbit))\n",
    "white_rabbit = white_rabbit.lower()\n",
    "print(\"After: \", white_rabbit, 'id:', id(white_rabbit))"
   ]
  },
  {
   "cell_type": "markdown",
   "metadata": {},
   "source": [
    "**More `str` methods**"
   ]
  },
  {
   "cell_type": "markdown",
   "metadata": {},
   "source": [
    "`capitalize`: returns a string with the first letter capitalized."
   ]
  },
  {
   "cell_type": "code",
   "execution_count": 43,
   "metadata": {},
   "outputs": [
    {
     "name": "stdout",
     "output_type": "stream",
     "text": [
      "Why, hello there Seb!\n"
     ]
    }
   ],
   "source": [
    "name = 'seb'\n",
    "print(\"Why, hello there \" + name.capitalize() + \"!\")"
   ]
  },
  {
   "cell_type": "code",
   "execution_count": 44,
   "metadata": {},
   "outputs": [
    {
     "name": "stdout",
     "output_type": "stream",
     "text": [
      "Why, hello there Seb goodfellow!\n"
     ]
    }
   ],
   "source": [
    "name = 'seb goodfellow'\n",
    "print(\"Why, hello there \" + name.capitalize() + \"!\")"
   ]
  },
  {
   "cell_type": "code",
   "execution_count": 45,
   "metadata": {},
   "outputs": [
    {
     "name": "stdout",
     "output_type": "stream",
     "text": [
      "Why are you screaming?\n",
      "WHY ARE YOU SCREAMING?\n"
     ]
    }
   ],
   "source": [
    "scream = 'Why are you screaming?'\n",
    "print(scream)\n",
    "print(scream.upper())"
   ]
  },
  {
   "cell_type": "markdown",
   "metadata": {},
   "source": [
    "`rfind(s)` returns the **last** index where the substring `s` is found, or -1 if no such index exists."
   ]
  },
  {
   "cell_type": "code",
   "execution_count": 47,
   "metadata": {},
   "outputs": [],
   "source": [
    "str1 = \"How much wood would a woodchuck chuck if a woodchuck could chuck wood?\"\n",
    "str2 = \"wood\""
   ]
  },
  {
   "cell_type": "code",
   "execution_count": 53,
   "metadata": {},
   "outputs": [
    {
     "name": "stdout",
     "output_type": "stream",
     "text": [
      "9\n"
     ]
    }
   ],
   "source": [
    "print(str1.find(str2))\n"
   ]
  },
  {
   "cell_type": "code",
   "execution_count": null,
   "metadata": {},
   "outputs": [],
   "source": [
    "print('Length of string:', len(str1))\n",
    "print(str1.rfind(str2))"
   ]
  },
  {
   "cell_type": "markdown",
   "metadata": {},
   "source": [
    "In the above case we have two strings. The method `rfind()` is applied to find `str2` in `str1`.\n",
    "\n",
    "If we were to reverse `str1` and `str2`, then there would be no match and hence we would have a result of -1 for the search as shown below."
   ]
  },
  {
   "cell_type": "code",
   "execution_count": null,
   "metadata": {},
   "outputs": [],
   "source": [
    "print(str2.rfind(str1))"
   ]
  },
  {
   "cell_type": "code",
   "execution_count": null,
   "metadata": {},
   "outputs": [],
   "source": [
    "print(str1.rfind(\"Ben\"))"
   ]
  },
  {
   "cell_type": "markdown",
   "metadata": {},
   "source": [
    "`replace`: We can also replace the word, \"wood\" with something else using the method `replace()`. \n",
    "\n",
    "The method `replace(old,new,count)` returns a copy of the string in which the occurrences of `old` have been replaced with `new`, optionally restricting the number of replacements to `count`. (If `count` is not specified, then all of them are replaced.)"
   ]
  },
  {
   "cell_type": "code",
   "execution_count": null,
   "metadata": {},
   "outputs": [],
   "source": [
    "help(str.replace)"
   ]
  },
  {
   "cell_type": "code",
   "execution_count": null,
   "metadata": {},
   "outputs": [],
   "source": [
    "str1 = \"How old is Seb?\"\n",
    "str2 = str1.replace(\"Seb\",\"Ben\")"
   ]
  },
  {
   "cell_type": "code",
   "execution_count": null,
   "metadata": {},
   "outputs": [],
   "source": [
    "print(str1)\n",
    "print(str2)"
   ]
  },
  {
   "cell_type": "code",
   "execution_count": null,
   "metadata": {},
   "outputs": [],
   "source": [
    "str1 = \"How much wood would a woodchuck chuck if a woodchuck could chuck wood?\"\n",
    "str2 = str1.replace(\"wood\", \"steel\")\n",
    "str3 = str1.replace(\"wood\", \"steel\",3)"
   ]
  },
  {
   "cell_type": "code",
   "execution_count": null,
   "metadata": {},
   "outputs": [],
   "source": [
    "print(str1)\n",
    "print(str2)\n",
    "print(str3)"
   ]
  },
  {
   "cell_type": "markdown",
   "metadata": {},
   "source": [
    "<div class=\"alert alert-block alert-info\">\n",
    "<big><b>This Lecture</b></big>\n",
    "<ul>  \n",
    " <li>str conversions</li>  \n",
    " <li>getting inside a string: indexing and slicing </li>  \n",
    " <li>you can't modify a string: immutability</li>\n",
    "    <li>but you can reassign string variables</li>\n",
    " <li>string methods</li>\n",
    "</ul>  \n",
    "</div>"
   ]
  }
 ],
 "metadata": {
  "kernelspec": {
   "display_name": "base",
   "language": "python",
   "name": "python3"
  },
  "language_info": {
   "codemirror_mode": {
    "name": "ipython",
    "version": 3
   },
   "file_extension": ".py",
   "mimetype": "text/x-python",
   "name": "python",
   "nbconvert_exporter": "python",
   "pygments_lexer": "ipython3",
   "version": "3.12.7"
  }
 },
 "nbformat": 4,
 "nbformat_minor": 2
}
