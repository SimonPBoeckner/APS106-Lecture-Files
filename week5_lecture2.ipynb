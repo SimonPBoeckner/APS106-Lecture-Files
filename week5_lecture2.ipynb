{
 "cells": [
  {
   "cell_type": "markdown",
   "metadata": {},
   "source": [
    "# APS106 Lecture Notes - Week 5, Lecture 2\n",
    "# Object-Oriented Programming & the File Object\n",
    "\n",
    "### Lecture Structure\n",
    "1. [Objects in Python](#section1)\n",
    "2. [The File Object](#section2)\n",
    "3. [Reading Files](#section3)\n",
    "4. [Madlibs](#section4)"
   ]
  },
  {
   "cell_type": "markdown",
   "metadata": {},
   "source": [
    "<a id='section1'></a>\n",
    "## 1. Objects In Python\n",
    "On Monday, we said that everything in Python is an object.\n",
    "\n",
    "There is in fact a function that you can call to confirm this."
   ]
  },
  {
   "cell_type": "code",
   "execution_count": 1,
   "metadata": {},
   "outputs": [
    {
     "name": "stdout",
     "output_type": "stream",
     "text": [
      "True\n",
      "True\n",
      "True\n"
     ]
    }
   ],
   "source": [
    "print(isinstance(4, object))\n",
    "print(isinstance(\"Hello\",object))\n",
    "print(isinstance(tuple,object))"
   ]
  },
  {
   "cell_type": "markdown",
   "metadata": {},
   "source": [
    "Every time we create a variable we are making a new object. Each object has a type or class that it belongs to.\n",
    "\n",
    "A **class** can be thought of as a template for the objects that are instances of it, where an **instance** of a class refers to an object whose type is defined as the class. \n",
    "\n",
    "The words \"instance\" and \"object\" are used interchangeably. For example when you store an integer value in a variable, then that variable becomes an instance of the class int. The same happens when you create variables of class float, int, str, list, set, tuple, dict, Turtle, etc. "
   ]
  },
  {
   "cell_type": "markdown",
   "metadata": {},
   "source": [
    "Ok, so eveything is an object in Python? Yes, check this out.\n",
    "\n",
    "Let's say we have two variables `a` and `b` that we want to add together."
   ]
  },
  {
   "cell_type": "code",
   "execution_count": 2,
   "metadata": {},
   "outputs": [
    {
     "data": {
      "text/plain": [
       "11"
      ]
     },
     "execution_count": 2,
     "metadata": {},
     "output_type": "execute_result"
    }
   ],
   "source": [
    "a = 5\n",
    "b = 6\n",
    "a + b"
   ]
  },
  {
   "cell_type": "markdown",
   "metadata": {},
   "source": [
    "`a` and `b` are integers and the `+` operator is actually pointing to a integer method (function) called `__add__()`."
   ]
  },
  {
   "cell_type": "code",
   "execution_count": 3,
   "metadata": {},
   "outputs": [
    {
     "data": {
      "text/plain": [
       "11"
      ]
     },
     "execution_count": 3,
     "metadata": {},
     "output_type": "execute_result"
    }
   ],
   "source": [
    "a.__add__(b)"
   ]
  },
  {
   "cell_type": "markdown",
   "metadata": {},
   "source": [
    "Now, this might seem a bit funny, but it will make sense soon.\n",
    "\n",
    "Each class has a predefined set of functions (\"methods\") that can only be applied to objects that are instances of the class. For example:"
   ]
  },
  {
   "cell_type": "code",
   "execution_count": 4,
   "metadata": {},
   "outputs": [
    {
     "name": "stdout",
     "output_type": "stream",
     "text": [
      "once upon a time there lived a dragon...\n",
      "once upon a time there lived a giant...\n"
     ]
    }
   ],
   "source": [
    "story = \"once upon a time there lived a dragon...\"\n",
    "print(story)\n",
    "story = story.replace('dragon', 'giant')\n",
    "print(story)"
   ]
  },
  {
   "cell_type": "code",
   "execution_count": 5,
   "metadata": {},
   "outputs": [
    {
     "ename": "AttributeError",
     "evalue": "'int' object has no attribute 'replace'",
     "output_type": "error",
     "traceback": [
      "\u001b[0;31m---------------------------------------------------------------------------\u001b[0m",
      "\u001b[0;31mAttributeError\u001b[0m                            Traceback (most recent call last)",
      "Cell \u001b[0;32mIn[5], line 2\u001b[0m\n\u001b[1;32m      1\u001b[0m x \u001b[38;5;241m=\u001b[39m \u001b[38;5;241m17\u001b[39m\n\u001b[0;32m----> 2\u001b[0m x\u001b[38;5;241m.\u001b[39mreplace(\u001b[38;5;241m17\u001b[39m,\u001b[38;5;241m19\u001b[39m)\n",
      "\u001b[0;31mAttributeError\u001b[0m: 'int' object has no attribute 'replace'"
     ]
    }
   ],
   "source": [
    "x = 17\n",
    "x.replace(17,19)"
   ]
  },
  {
   "cell_type": "markdown",
   "metadata": {},
   "source": [
    "The method `replace` is associated with type `str`, not `int`, hence if we try to apply it to an int, we will get an error.\n",
    "\n",
    "We’ve been using turtles to visualize different aspects of programming. In these examples you may have noticed that there are methods associated to the turtle object that can only be applied to turtle objects."
   ]
  },
  {
   "cell_type": "code",
   "execution_count": null,
   "metadata": {},
   "outputs": [],
   "source": [
    "import turtle\n",
    "alex = turtle.Turtle()\n",
    "\n",
    "alex.up()            # make alex raise its tail\n",
    "alex.goto(-150, 100) # make alex go to (-150, 100)\n",
    "alex.down()          # make alex lower its tail\n",
    "alex.circle(30)      # make alex draw a circle\n",
    "\n",
    "turtle.done()"
   ]
  },
  {
   "cell_type": "markdown",
   "metadata": {},
   "source": [
    "The above code creates an instance of the turtle object and names it `alex`. Then we have methods such as: up, goto, down, circle that `alex` can execute according to the provided arguments.\n",
    "\n",
    "As we have seen, we can use pre-defined objects and their methods just fine without needing to know what's inside. \n",
    "\n",
    "Up to now, most of the programs have been written using a procedural programming paradigm. In procedural programming the focus is on writing functions or procedures which operate on data. In what is to follow, we will learn about ways to create our own unique objects with unique methods that can be applied on them. However, before we get there, let us first discuss the motivation and a little history of object-oriented programming (OOP)."
   ]
  },
  {
   "cell_type": "markdown",
   "metadata": {},
   "source": [
    "## OO Introduction\n",
    "\n",
    "Programming with objects as the cognitive model of a problem is called “object oriented programming” (OOP). ('cognitive model' just means the way you think about things) Different from what we have been doing up to now, OOP focuses on the creation of objects which contain both **data and functionality** together and achieving the overall program functionality through the interaction of these objects.\n",
    "\n",
    "**OOP is a (different) way of thinking about the design and organization of your code.**\n",
    "\n",
    "OOP was developed as a way to handle the size and complexity of software systems and to make it easier to employ teams of programmers to create and maintain these large and complex systems over time. Think about a avionics system for an airplace or an financial accounting system for a bank.\n",
    "\n",
    "Usually, each object corresponds to some object or concept in the real world, and the functions that operate on that object correspond to the ways real-world objects interact. For example, we could think of an oven object. The oven allows us to perform a few specific operations, like put an item in the oven, or set the temperature.\n",
    "\n",
    "In object-oriented programming, the objects are considered to be active agents. In our early introduction to turtles, we used an object-oriented style, so that we said `tina.forward(100)`, which asks the turtle to move itself forward by the given number of steps. This change in perspective may not be initially obvious, nor might it be obvious that it is useful. But sometimes shifting responsibility from the functions onto the objects makes it possible to write more versatile functions and makes it easier to maintain and reuse code.\n",
    "\n",
    "The most important advantage of the object-oriented style is that it fits our mental chunking and real-life experience more accurately. In real life a `cook` method is part of our microwave oven — we don’t have a cook function sitting in the corner of the kitchen, into which we pass the microwave! Similarly, we use the cellphone’s own methods to send a text message or switch it to do not disturb. The functionality of real-world objects tends to be tightly bound up inside the objects themselves. OOP allows us to accurately mirror this when we organize our programs.\n",
    "Creating a program as a collection of objects can lead to a more understandable, manageable, and properly executing program.\n",
    "\n",
    "<div class=\"alert alert-block alert-info\">\n",
    "<big><b>Pro-tip</b></big>\n",
    "    \n",
    "If you get confused about OO, objects, instances, classes, methods, ..., think about Turtles. Turtle is a class. When you create a turtle variable (e.g. tina) you are creating an instance (also called an object) of the class Turtle. When you tell tina to do something, you are calling a method of the Turtle class.\n",
    "\n",
    "If you get confused - think about turtles.\n",
    "</div>"
   ]
  },
  {
   "cell_type": "markdown",
   "metadata": {},
   "source": [
    "### Turtles\n",
    "\n",
    "Let's look at the nice example from Tuesday again and think about what is going on line-by-line."
   ]
  },
  {
   "cell_type": "code",
   "execution_count": 6,
   "metadata": {},
   "outputs": [],
   "source": [
    "import turtle\n",
    "\n",
    "tina = turtle.Turtle()       # create Turtle object\n",
    "tina.color('red')            # call color method on Turtle object to change color\n",
    "tina.speed(10)               # call speed method on Turtle object to change speed\n",
    "tina.begin_fill()            # call begin_fill method on Turtle object \n",
    "back_to_beginning = False\n",
    "while not back_to_beginning:\n",
    "    tina.forward(200)        # call forward method on Turtle object \n",
    "    tina.left(170)           # call left method on Turtle object \n",
    "    back_to_beginning = (abs(tina.pos()) < 1)  # call pos method on Turtle object\n",
    "    \n",
    "tina.end_fill()              # call end_fill method on Turtle object \n",
    "tina.hideturtle()            # call hideturtle method on Turtle object \n",
    "turtle.done()"
   ]
  },
  {
   "cell_type": "markdown",
   "metadata": {},
   "source": [
    "Almost every line is just calling a Turtle method. The trick is calling the right ones to do what you want.\n",
    "\n",
    "An object has a set of methods defined and you write a program by orchestrating the methods. More complex OO programs have a lot of different objects that call each other's methods."
   ]
  },
  {
   "cell_type": "markdown",
   "metadata": {},
   "source": [
    "### A Fictional ACORN Design\n",
    "\n",
    "Imagine how you might design the functionality of ACORN and, in particular, a function to enrol a student in a course.\n",
    "\n",
    "Here's some completely fictional code that might reflect the design."
   ]
  },
  {
   "cell_type": "code",
   "execution_count": 7,
   "metadata": {},
   "outputs": [
    {
     "ename": "ModuleNotFoundError",
     "evalue": "No module named 'course_db'",
     "output_type": "error",
     "traceback": [
      "\u001b[0;31m---------------------------------------------------------------------------\u001b[0m",
      "\u001b[0;31mModuleNotFoundError\u001b[0m                       Traceback (most recent call last)",
      "Cell \u001b[0;32mIn[7], line 1\u001b[0m\n\u001b[0;32m----> 1\u001b[0m \u001b[38;5;28;01mimport\u001b[39;00m \u001b[38;5;21;01mcourse_db\u001b[39;00m    \u001b[38;5;66;03m# module with interface to database of courses\u001b[39;00m\n\u001b[1;32m      2\u001b[0m \u001b[38;5;28;01mimport\u001b[39;00m \u001b[38;5;21;01mstudent_db\u001b[39;00m   \u001b[38;5;66;03m# module with interface to database of students\u001b[39;00m\n\u001b[1;32m      4\u001b[0m \u001b[38;5;28;01mdef\u001b[39;00m \u001b[38;5;21menroll_student\u001b[39m(student_id, course_id):\n",
      "\u001b[0;31mModuleNotFoundError\u001b[0m: No module named 'course_db'"
     ]
    }
   ],
   "source": [
    "import course_db    # module with interface to database of courses\n",
    "import student_db   # module with interface to database of students\n",
    "\n",
    "def enroll_student(student_id, course_id):\n",
    "    '''\n",
    "    Enroll student corresponding to student_id in course\n",
    "    corresponding to course_id\n",
    "    Return True if successful, False otherwise\n",
    "    '''\n",
    "    course = course_db.get_course(course_id)  # get course object\n",
    "    if course == None:\n",
    "        print(\"No such course: \", course)\n",
    "        return False\n",
    "    \n",
    "    student = student_db.get_student(student_id) # get student object\n",
    "    if student == None:\n",
    "        print(\"No such course: \", course)\n",
    "        return False\n",
    "    \n",
    "    if course_db.is_eligible(student, course):\n",
    "        student.enroll(course)  # student object knows what courses it is enrolled in\n",
    "        course.enroll(student)  # course object knows what students are enrolled\n",
    "        return True\n",
    "\n",
    "    print(\"Student\",student_id,\"is not eligble for course\",course_id)        \n",
    "    return False\n"
   ]
  },
  {
   "cell_type": "markdown",
   "metadata": {},
   "source": [
    "The point is that by providing objects with behaviour, we can now easily build functionality using that behaviour and without having to know how that behaviour is implemented.\n",
    "\n",
    "**Aside:** Why do we want both the course to know its students and a student to know its courses? What is a weakness of this design?"
   ]
  },
  {
   "cell_type": "markdown",
   "metadata": {},
   "source": [
    "<a id='section2'></a>\n",
    "## The File Object\n",
    "\n",
    "A file on your computer is something like a document, data file, Python source code, etc. We are going to focus on ASCII text files which you can think of as a sequence of characters stored someplace on your computer.\n",
    "\n",
    "It is pretty common to have programs that read and write files: read in some data, do some calculation, write out the results. This is pretty much the core of any data science task.\n",
    "\n",
    "In Python files are represented by objects and we will look at some basic methods of the file object here."
   ]
  },
  {
   "cell_type": "markdown",
   "metadata": {},
   "source": [
    "## Working with Files\n",
    "\n",
    "Working with files is a lot like working with a physical notebook. \n",
    "\n",
    "- A file has to be opened. \n",
    "- When you are done, it has to be closed. \n",
    "- While the file is open, it can either be read from or written to. \n",
    "- Like a bookmark, the file keeps track of where you are reading to or writing from. \n",
    "- You can read the whole file in its natural order or you can skip around. \n",
    "\n",
    "### Opening and Closing a File\n",
    "\n",
    "Python has a built-in function where you specify the filename and the mode of access (\"w\" = write, \"r\" = read, \"a\" = append)."
   ]
  },
  {
   "cell_type": "code",
   "execution_count": 8,
   "metadata": {},
   "outputs": [],
   "source": [
    "myfile = open(\"test.txt\", \"w\")\n",
    "#type(myfile)\n",
    "#dir(myfile)"
   ]
  },
  {
   "cell_type": "markdown",
   "metadata": {},
   "source": [
    "This command will open `test.txt` in the folder where the program is being executed. If `test.txt` does not exist it will be created. If it does exist, it will be **over-written!!!**\n",
    "\n",
    "`myfile` is an object that keeps track of information about the file (e.g., where you are in it). If you want to write to (or read from) the file, you need to do so via the file object."
   ]
  },
  {
   "cell_type": "code",
   "execution_count": 11,
   "metadata": {},
   "outputs": [
    {
     "ename": "ValueError",
     "evalue": "I/O operation on closed file.",
     "output_type": "error",
     "traceback": [
      "\u001b[0;31m---------------------------------------------------------------------------\u001b[0m",
      "\u001b[0;31mValueError\u001b[0m                                Traceback (most recent call last)",
      "Cell \u001b[0;32mIn[11], line 1\u001b[0m\n\u001b[0;32m----> 1\u001b[0m myfile\u001b[38;5;241m.\u001b[39mwrite(\u001b[38;5;124m\"\u001b[39m\u001b[38;5;124mCATS!\u001b[39m\u001b[38;5;124m\"\u001b[39m)\n\u001b[1;32m      2\u001b[0m myfile\u001b[38;5;241m.\u001b[39mclose()\n",
      "\u001b[0;31mValueError\u001b[0m: I/O operation on closed file."
     ]
    }
   ],
   "source": [
    "myfile.write(\"CATS!\")\n",
    "myfile.close()"
   ]
  },
  {
   "cell_type": "markdown",
   "metadata": {},
   "source": [
    "This command writes a string to myfile. It is like `print` but does not add the newline. So:"
   ]
  },
  {
   "cell_type": "code",
   "execution_count": 12,
   "metadata": {},
   "outputs": [],
   "source": [
    "myfile = open(\"test.txt\", \"w\")\n",
    "\n",
    "myfile.write(\"CATS!\")\n",
    "myfile.write(\"\\n\")\n",
    "myfile.write(\"I <3 APS106\\n\")  #need to add \\n newline character, unlike print()\n",
    "\n",
    "myfile.close()"
   ]
  },
  {
   "cell_type": "code",
   "execution_count": 13,
   "metadata": {},
   "outputs": [],
   "source": [
    "myfile = open('test.txt','w')  #what happens to file changing modes between 'a' and 'w'\n",
    "myfile.write('hola\\n')\n",
    "myfile.close()"
   ]
  },
  {
   "cell_type": "markdown",
   "metadata": {},
   "source": [
    "The next `write` statement writes the string where ever we left off. When we are done, the file needs to be closed. This tells the file object that we are done and it should clean things up."
   ]
  },
  {
   "cell_type": "code",
   "execution_count": 14,
   "metadata": {},
   "outputs": [],
   "source": [
    "myfile = open('grades.txt','w')  #what happens to file changing modes between 'a' and 'w'\n",
    "\n",
    "students = 'Kendrick:A+\\nDre:C-\\nSnoop:B\\n'\n",
    "\n",
    "myfile.write(students)\n",
    "myfile.close()"
   ]
  },
  {
   "cell_type": "markdown",
   "metadata": {},
   "source": [
    "Now we can go to the folder where the jupyter notebook is and observe that there is a file there called `text.txt` containing the lines that we wrote out.\n",
    "\n",
    "<a id='section3'></a>\n",
    "## Reading Files\n",
    "\n",
    "Now that the file exists on our disk, we can open it, this time for reading, and read all the lines in the file, one at a time. This time, the mode argument is \"r\" for reading:"
   ]
  },
  {
   "cell_type": "code",
   "execution_count": 15,
   "metadata": {},
   "outputs": [],
   "source": [
    "myfile = open(\"test.txt\", \"r\")"
   ]
  },
  {
   "cell_type": "markdown",
   "metadata": {},
   "source": [
    "There are four common ways to read a file. "
   ]
  },
  {
   "cell_type": "code",
   "execution_count": 16,
   "metadata": {},
   "outputs": [],
   "source": [
    "#Execute this cell to create a flanders.txt file in your working directory\n",
    "\n",
    "flanders_file = open('flanders.txt','w')\n",
    "flanders_file.write('''\n",
    "In Flanders Fields\n",
    "\n",
    "In Flanders fields the poppies blow \n",
    "Between the crosses, row on row,\n",
    "That mark our place; and in the sky\n",
    "The larks, still bravely singing, fly\n",
    "Scarce heard amid the guns below.\n",
    "We are the Dead. Short days ago\n",
    "We lived, felt dawn, saw sunset glow, \n",
    "Loved and were loved, and now we lie\n",
    "In Flanders fields.\n",
    "Take up our quarrel with the foe:\n",
    "To you from failing hands we throw\n",
    "The torch; be yours to hold it high.\n",
    "If ye break faith with us who die\n",
    "We shall not sleep, though poppies grow \n",
    "In Flanders fields.''')\n",
    "flanders_file.close()"
   ]
  },
  {
   "cell_type": "markdown",
   "metadata": {},
   "source": [
    "### The read approach\n",
    "\n",
    "Read the whole file into a string. **Beware: If the file is huge, this can create problems!**"
   ]
  },
  {
   "cell_type": "code",
   "execution_count": 17,
   "metadata": {},
   "outputs": [
    {
     "name": "stdout",
     "output_type": "stream",
     "text": [
      "<class '_io.TextIOWrapper'>\n",
      "<class 'str'>\n",
      "\n",
      "In Flanders Fields\n",
      "\n",
      "In Flanders fields the poppies blow \n",
      "Between the crosses, row on row,\n",
      "That mark our place; and in the sky\n",
      "The larks, still bravely singing, fly\n",
      "Scarce heard amid the guns below.\n",
      "We are the Dead. Short days ago\n",
      "We lived, felt dawn, saw sunset glow, \n",
      "Loved and were loved, and now we lie\n",
      "In Flanders fields.\n",
      "Take up our quarrel with the foe:\n",
      "To you from failing hands we throw\n",
      "The torch; be yours to hold it high.\n",
      "If ye break faith with us who die\n",
      "We shall not sleep, though poppies grow \n",
      "In Flanders fields.\n"
     ]
    }
   ],
   "source": [
    "flanders_file = open(\"flanders.txt\", 'r')\n",
    "flanders_poem = flanders_file.read()\n",
    "flanders_file.close()\n",
    "\n",
    "print(type(flanders_file))\n",
    "print(type(flanders_poem))\n",
    "print(flanders_poem)"
   ]
  },
  {
   "cell_type": "markdown",
   "metadata": {},
   "source": [
    "Q: If `flanders_poem` is a string, why does it print out across multiple lines?"
   ]
  },
  {
   "cell_type": "markdown",
   "metadata": {},
   "source": [
    "### The readline approach\n",
    "\n",
    "Read the file line-by-line into a string. This is a safer thing to do as the whole file never gets put in memory at once. Note that the file must be kept open if you still want to read the next line - unlike above where you can close the file immediately after `read()`."
   ]
  },
  {
   "cell_type": "code",
   "execution_count": 18,
   "metadata": {},
   "outputs": [
    {
     "name": "stdout",
     "output_type": "stream",
     "text": [
      "\n",
      "\n",
      "\n",
      "In Flanders Fields\n",
      "\n",
      "In Flanders fields the poppies blow \n",
      "Between the crosses, row on row,\n",
      "That mark our place; and in the sky\n",
      "The larks, still bravely singing, fly\n",
      "Scarce heard amid the guns below.\n",
      "We are the Dead. Short days ago\n",
      "We lived, felt dawn, saw sunset glow, \n",
      "Loved and were loved, and now we lie\n",
      "In Flanders fields.\n",
      "Take up our quarrel with the foe:\n",
      "To you from failing hands we throw\n",
      "The torch; be yours to hold it high.\n",
      "If ye break faith with us who die\n",
      "We shall not sleep, though poppies grow \n",
      "In Flanders fields.\n"
     ]
    }
   ],
   "source": [
    "# Approach: readline\n",
    "# When to use it: When you want to process the file line-by-line\n",
    "# Example code\n",
    "myfile = open(\"flanders.txt\", 'r')\n",
    "\n",
    "line = myfile.readline()\n",
    "print(line)\n",
    "contents = ''\n",
    "\n",
    "while line != '': #while line is not an empty string\n",
    "#while line: #while line is not an empty string (empty strings evaluate to False)\n",
    "    contents += line  #concatenate the current line with the previous lines\n",
    "    line = myfile.readline() # each time through the loop, line contains one line of the file\n",
    "myfile.close()\n",
    "\n",
    "print(contents)\n",
    "# by the end of this loop, contents contains the entire contents of the file"
   ]
  },
  {
   "cell_type": "markdown",
   "metadata": {},
   "source": [
    "### The for line in file approach"
   ]
  },
  {
   "cell_type": "markdown",
   "metadata": {},
   "source": [
    "For the next two ways to read file, we need to have a preview of material coming next week. There is another form of loop in Python called a **for-loop** that looks like the following:\n",
    "\n",
    "```\n",
    "for item in iterable:\n",
    "    body\n",
    "```\n",
    "Similar to `if` and `while` statements, there are two things to note here:\n",
    "- There must be a colon (:) at the end of the `for` statement.\n",
    "- The body must be indented.\n",
    "\n",
    "An \"iterable\" can be anything that can be 'iterated' over. 'Iterate' means to do something repeatedly. In this case, an iterable is a collection of items and we can loop over them.\n",
    "\n"
   ]
  },
  {
   "cell_type": "markdown",
   "metadata": {},
   "source": [
    "Like the `readline` approach, this approach also reads in the file line-by-line. It uses the `in` operator in a for-loop. "
   ]
  },
  {
   "cell_type": "code",
   "execution_count": 19,
   "metadata": {},
   "outputs": [
    {
     "name": "stdout",
     "output_type": "stream",
     "text": [
      "\n",
      "In Flanders Fields\n",
      "\n",
      "In Flanders fields the poppies blow \n",
      "Between the crosses, row on row,\n",
      "That mark our place; and in the sky\n",
      "The larks, still bravely singing, fly\n",
      "Scarce heard amid the guns below.\n",
      "We are the Dead. Short days ago\n",
      "We lived, felt dawn, saw sunset glow, \n",
      "Loved and were loved, and now we lie\n",
      "In Flanders fields.\n",
      "Take up our quarrel with the foe:\n",
      "To you from failing hands we throw\n",
      "The torch; be yours to hold it high.\n",
      "If ye break faith with us who die\n",
      "We shall not sleep, though poppies grow \n",
      "In Flanders fields.\n"
     ]
    }
   ],
   "source": [
    "# Approach: for line in file\n",
    "# When to use it: When you want to process the file line-by-line\n",
    "# Example code\n",
    "myfile = open(\"flanders.txt\", 'r')\n",
    "contents = ''\n",
    "for line in myfile: # each time through the loop line contains one line of the file\n",
    "    contents += line\n",
    "    #print(line)  #why is there a gap between rows when printing like this?\n",
    "myfile.close()\n",
    "\n",
    "print(contents)\n",
    "# by the end of this contents contains the entire contets of the file"
   ]
  },
  {
   "cell_type": "markdown",
   "metadata": {},
   "source": [
    "In the example above, the variable `line` is assigned to the next line (a string ending in a '\\n') each time through the loop."
   ]
  },
  {
   "cell_type": "markdown",
   "metadata": {},
   "source": [
    "### The readlines approach\n",
    "\n",
    "The `readlines` approach reads the whole file in (like `read`) but rather than putting the file in one big string, it creates a list where each line of the file is an entry in the list.\n",
    "\n",
    "**We haven't actually got to lists yet in this course. For now just remember that there is a way to read lines of a file into a list and that list is an iterable.**"
   ]
  },
  {
   "cell_type": "code",
   "execution_count": 20,
   "metadata": {},
   "outputs": [
    {
     "name": "stdout",
     "output_type": "stream",
     "text": [
      "<class 'list'>\n",
      "18\n",
      "<class 'str'>\n",
      "['\\n', 'In Flanders Fields\\n', '\\n', 'In Flanders fields the poppies blow \\n', 'Between the crosses, row on row,\\n', 'That mark our place; and in the sky\\n', 'The larks, still bravely singing, fly\\n', 'Scarce heard amid the guns below.\\n', 'We are the Dead. Short days ago\\n', 'We lived, felt dawn, saw sunset glow, \\n', 'Loved and were loved, and now we lie\\n', 'In Flanders fields.\\n', 'Take up our quarrel with the foe:\\n', 'To you from failing hands we throw\\n', 'The torch; be yours to hold it high.\\n', 'If ye break faith with us who die\\n', 'We shall not sleep, though poppies grow \\n', 'In Flanders fields.']\n"
     ]
    }
   ],
   "source": [
    "# Approach: readlines\n",
    "# When to use it: When you want to process the file line-by-line with an index\n",
    "# Example code\n",
    "myfile = open(\"flanders.txt\", 'r')\n",
    "lines = myfile.readlines() # lines is a list of strings. Each entry in lines is a line of the file\n",
    "\n",
    "print(type(lines))\n",
    "print(len(lines))\n",
    "print(type(lines[0]))\n",
    "\n",
    "for line in myfile:\n",
    "    print(line, end=\"\")\n",
    "print(lines)\n",
    "\n",
    "myfile.close()"
   ]
  },
  {
   "cell_type": "markdown",
   "metadata": {},
   "source": [
    "## The with Statement\n",
    "\n",
    "Notice that whenever we open a file, we need to be careful to close it again. Python provides a nice way to open and then automatically close a file using a `with` block.\n",
    "\n",
    "```\n",
    "with open(«filename», «mode») as «variable»:\n",
    "      «body»\n",
    "```\n",
    "\n",
    "The file is opened at the beginning and **automatically closed** at the end of the body. \n"
   ]
  },
  {
   "cell_type": "code",
   "execution_count": 21,
   "metadata": {},
   "outputs": [
    {
     "name": "stdout",
     "output_type": "stream",
     "text": [
      "hola\n",
      "\n",
      "The next line\n"
     ]
    }
   ],
   "source": [
    "def f(file):\n",
    "    print(file.read())\n",
    "\n",
    "with open('test.txt', 'r') as file:\n",
    "    f(file)\n",
    "    \n",
    "print(\"The next line\")"
   ]
  },
  {
   "cell_type": "code",
   "execution_count": 22,
   "metadata": {},
   "outputs": [
    {
     "name": "stdout",
     "output_type": "stream",
     "text": [
      "\n",
      "In Flanders Fields\n",
      "\n",
      "In Flanders fields the poppies blow \n",
      "Between the crosses, row on row,\n",
      "That mark our place; and in the sky\n",
      "The larks, still bravely singing, fly\n",
      "Scarce heard amid the guns below.\n",
      "We are the Dead. Short days ago\n",
      "We lived, felt dawn, saw sunset glow, \n",
      "Loved and were loved, and now we lie\n",
      "In Flanders fields.\n",
      "Take up our quarrel with the foe:\n",
      "To you from failing hands we throw\n",
      "The torch; be yours to hold it high.\n",
      "If ye break faith with us who die\n",
      "We shall not sleep, though poppies grow \n",
      "In Flanders fields."
     ]
    }
   ],
   "source": [
    "with open(\"flanders.txt\", 'r') as flanders_file:\n",
    "    for line in flanders_file:\n",
    "        print(line, end=\"\")"
   ]
  },
  {
   "cell_type": "markdown",
   "metadata": {},
   "source": [
    "The use of `with` is a nice pattern in Python - all it really does it make sure the file is correctly closed when the with statement ends."
   ]
  },
  {
   "cell_type": "markdown",
   "metadata": {},
   "source": [
    "<a id='section4'></a>\n",
    "# Madlibs!\n",
    "\n",
    "## Problem Background\n",
    "\n",
    "Madlibs is a story game for kids: a story is written and a few important words are taken out, replaced by blanks. The blanks are labelled with their part of speech or other category (\"noun\", \"adjective\", \"an animal\", and so on). One kid reads out the categories, another kid (or kids) supply new words without knowing the story. When all the blanks have been filled in, the story is read out, hopefully with silly results (this is a game for kids, afterall).\n",
    "\n",
    "Here's an [online example](https://www.madtakes.com/).\n",
    "\n",
    "## Define the Problem\n",
    "\n",
    "With what we have learned up to now, we would like to develop a simple Madlib game. Internally the game will be provided with sample stories with certain words removed. The player will be repeatedly prompted for new words that match certain grammatical or descriptive requirements. Once all the words have been entered, the story will be output for everyone to read and enjoy.\n",
    "\n",
    "It would be great if the sample stories would be randomly generated each time we run the game or if we had a library of stories that we could read in. These are a bit beyond our abilities at the moment so for now, let's read in a single story from a text file.\n",
    "\n",
    "## Breakout Session: Reading and saving the starting story from file\n",
    "\n",
    "Write the code to read in the madlibs starter story and print it for you to see."
   ]
  },
  {
   "cell_type": "code",
   "execution_count": 23,
   "metadata": {
    "scrolled": true
   },
   "outputs": [],
   "source": [
    "#open the text file and create your file object\n",
    "\n",
    "\n",
    "\n",
    "#read your file object using the .read() method and save the story as a string\n",
    "\n",
    "\n",
    "\n",
    "#print the original story so you can check if it worked ( but don't read it all yet... )\n",
    "\n"
   ]
  },
  {
   "cell_type": "markdown",
   "metadata": {},
   "source": [
    "## Breakout Session 2: Replace one category of words"
   ]
  },
  {
   "cell_type": "code",
   "execution_count": 24,
   "metadata": {},
   "outputs": [],
   "source": [
    "# first try: replace one category {animal}\n",
    "\n",
    "\n",
    "\n",
    "# replace the placeholder {animal} with what the user input above\n",
    "\n",
    "\n",
    "\n",
    "# print the updated story with {animal} replaced\n",
    "\n"
   ]
  },
  {
   "cell_type": "markdown",
   "metadata": {},
   "source": [
    "OK, seems to work. But the code we wrote is very specific for the animal. And notice that we need the string “animal” in both the `input` statement and the `replace` statement (albeit inside {}). If we introduce another variable, we can write more flexible code.\n",
    "\n",
    "**Notice what we are doing here. Just because the code \"works\" doesn't mean there does not exist a better solution to the design problem. As you do the steps in the programming plan, you should still be thinking about the big picture.**"
   ]
  },
  {
   "cell_type": "code",
   "execution_count": 25,
   "metadata": {},
   "outputs": [
    {
     "ename": "NameError",
     "evalue": "name 'original_story' is not defined",
     "output_type": "error",
     "traceback": [
      "\u001b[0;31m---------------------------------------------------------------------------\u001b[0m",
      "\u001b[0;31mNameError\u001b[0m                                 Traceback (most recent call last)",
      "Cell \u001b[0;32mIn[25], line 7\u001b[0m\n\u001b[1;32m      3\u001b[0m word_to_replace \u001b[38;5;241m=\u001b[39m \u001b[38;5;124m'\u001b[39m\u001b[38;5;132;01m{animal}\u001b[39;00m\u001b[38;5;124m'\u001b[39m\n\u001b[1;32m      5\u001b[0m replacer \u001b[38;5;241m=\u001b[39m \u001b[38;5;28minput\u001b[39m(\u001b[38;5;124m'\u001b[39m\u001b[38;5;124mEnter a \u001b[39m\u001b[38;5;124m'\u001b[39m \u001b[38;5;241m+\u001b[39m word_to_replace[\u001b[38;5;241m1\u001b[39m:\u001b[38;5;241m-\u001b[39m\u001b[38;5;241m1\u001b[39m] \u001b[38;5;241m+\u001b[39m \u001b[38;5;124m'\u001b[39m\u001b[38;5;124m: \u001b[39m\u001b[38;5;124m'\u001b[39m)  \u001b[38;5;66;03m#what is [1:-1] doing?\u001b[39;00m\n\u001b[0;32m----> 7\u001b[0m original_story \u001b[38;5;241m=\u001b[39m original_story\u001b[38;5;241m.\u001b[39mreplace(word_to_replace, replacer)\n\u001b[1;32m      9\u001b[0m \u001b[38;5;28mprint\u001b[39m(original_story)\n",
      "\u001b[0;31mNameError\u001b[0m: name 'original_story' is not defined"
     ]
    }
   ],
   "source": [
    "# second try: replace one word with more general code\n",
    "\n",
    "word_to_replace = '{animal}'\n",
    "\n",
    "replacer = input('Enter a ' + word_to_replace[1:-1] + ': ')  #what is [1:-1] doing?\n",
    "\n",
    "original_story = original_story.replace(word_to_replace, replacer)\n",
    "\n",
    "print(original_story)"
   ]
  },
  {
   "cell_type": "code",
   "execution_count": 26,
   "metadata": {},
   "outputs": [
    {
     "ename": "NameError",
     "evalue": "name 'original_story' is not defined",
     "output_type": "error",
     "traceback": [
      "\u001b[0;31m---------------------------------------------------------------------------\u001b[0m",
      "\u001b[0;31mNameError\u001b[0m                                 Traceback (most recent call last)",
      "Cell \u001b[0;32mIn[26], line 6\u001b[0m\n\u001b[1;32m      4\u001b[0m word_to_replace \u001b[38;5;241m=\u001b[39m \u001b[38;5;124m'\u001b[39m\u001b[38;5;132;01m{animal}\u001b[39;00m\u001b[38;5;124m'\u001b[39m\n\u001b[1;32m      5\u001b[0m replacer \u001b[38;5;241m=\u001b[39m \u001b[38;5;28minput\u001b[39m(\u001b[38;5;124m'\u001b[39m\u001b[38;5;124mEnter an \u001b[39m\u001b[38;5;124m'\u001b[39m \u001b[38;5;241m+\u001b[39m word_to_replace[\u001b[38;5;241m1\u001b[39m:\u001b[38;5;241m-\u001b[39m\u001b[38;5;241m1\u001b[39m] \u001b[38;5;241m+\u001b[39m \u001b[38;5;124m'\u001b[39m\u001b[38;5;124m: \u001b[39m\u001b[38;5;124m'\u001b[39m)\n\u001b[0;32m----> 6\u001b[0m original_story \u001b[38;5;241m=\u001b[39m original_story\u001b[38;5;241m.\u001b[39mreplace(word_to_replace, replacer)\n\u001b[1;32m      8\u001b[0m \u001b[38;5;66;03m# replace location\u001b[39;00m\n\u001b[1;32m      9\u001b[0m word_to_replace \u001b[38;5;241m=\u001b[39m \u001b[38;5;124m'\u001b[39m\u001b[38;5;132;01m{location}\u001b[39;00m\u001b[38;5;124m'\u001b[39m\n",
      "\u001b[0;31mNameError\u001b[0m: name 'original_story' is not defined"
     ]
    }
   ],
   "source": [
    "# second try: replace one word with more general code\n",
    "\n",
    "# replace animal\n",
    "word_to_replace = '{animal}'\n",
    "replacer = input('Enter an ' + word_to_replace[1:-1] + ': ')\n",
    "original_story = original_story.replace(word_to_replace, replacer)\n",
    "\n",
    "# replace location\n",
    "word_to_replace = '{location}'\n",
    "replacer = input('Enter an ' + word_to_replace[1:-1] + ': ')\n",
    "original_story = original_story.replace(word_to_replace, replacer)\n",
    "\n",
    "# replace name\n",
    "word_to_replace = '{name}'\n",
    "replacer = input('Enter an ' + word_to_replace[1:-1] + ': ')\n",
    "original_story = original_story.replace(word_to_replace, replacer)\n",
    "\n",
    "# replace verb\n",
    "word_to_replace = '{verb}'\n",
    "replacer = input('Enter an ' + word_to_replace[1:-1] + ': ')\n",
    "original_story = original_story.replace(word_to_replace, replacer)\n",
    "\n",
    "# replace noun\n",
    "word_to_replace = '{noun}'\n",
    "replacer = input('Enter an ' + word_to_replace[1:-1] + ': ')\n",
    "original_story = original_story.replace(word_to_replace, replacer)\n",
    "\n",
    "print(original_story)"
   ]
  },
  {
   "cell_type": "markdown",
   "metadata": {},
   "source": [
    "That's an awful lot of repeated code. Your spidey senses should be tingling. \n",
    "\n",
    "<div class=\"alert alert-block alert-warning\">\n",
    "<big><b>Golden Rule for Programmers</b></big>\n",
    "Be lazy -- write as little code as you can. You should be very suspicious of repeating almost identical lines of code. It almost always means you can write better, shorter code. </div>\n",
    "\n",
    "Can we do better?"
   ]
  },
  {
   "cell_type": "code",
   "execution_count": 28,
   "metadata": {},
   "outputs": [
    {
     "ename": "NameError",
     "evalue": "name 'original_story' is not defined",
     "output_type": "error",
     "traceback": [
      "\u001b[0;31m---------------------------------------------------------------------------\u001b[0m",
      "\u001b[0;31mNameError\u001b[0m                                 Traceback (most recent call last)",
      "Cell \u001b[0;32mIn[28], line 24\u001b[0m\n\u001b[1;32m     19\u001b[0m     \u001b[38;5;66;03m#write your code here\u001b[39;00m\n\u001b[1;32m     20\u001b[0m \n\u001b[1;32m     21\u001b[0m \n\u001b[1;32m     22\u001b[0m \u001b[38;5;66;03m# replace animal\u001b[39;00m\n\u001b[1;32m     23\u001b[0m word_to_replace \u001b[38;5;241m=\u001b[39m \u001b[38;5;124m'\u001b[39m\u001b[38;5;132;01m{animal}\u001b[39;00m\u001b[38;5;124m'\u001b[39m\n\u001b[0;32m---> 24\u001b[0m original_story \u001b[38;5;241m=\u001b[39m replace_template(word_to_replace, original_story)\n\u001b[1;32m     26\u001b[0m \u001b[38;5;66;03m# replace location\u001b[39;00m\n\u001b[1;32m     27\u001b[0m word_to_replace \u001b[38;5;241m=\u001b[39m \u001b[38;5;124m'\u001b[39m\u001b[38;5;132;01m{location}\u001b[39;00m\u001b[38;5;124m'\u001b[39m\n",
      "\u001b[0;31mNameError\u001b[0m: name 'original_story' is not defined"
     ]
    }
   ],
   "source": [
    "# third try: add a function\n",
    "\n",
    "def replace_template(word_to_replace, story):\n",
    "    '''\n",
    "    (str, str) -> str\n",
    "    \n",
    "    Takes in a {category} to replace (such as {animal} or {location}),\n",
    "    and a complete madlibs story as strings.\n",
    "    \n",
    "    Asks the user for input for which {category} to replace.\n",
    "    \n",
    "    The input prompt must explicitly say the category (i.e., animal, without the {})\n",
    "    \n",
    "    Replaces all instances of that {category} with the word the user input\n",
    "    \n",
    "    Returns the updated madlibs story with that {word}\n",
    "    '''\n",
    "    \n",
    "    #write your code here\n",
    "\n",
    "\n",
    "# replace animal\n",
    "word_to_replace = '{animal}'\n",
    "original_story = replace_template(word_to_replace, original_story)\n",
    "\n",
    "# replace location\n",
    "word_to_replace = '{location}'\n",
    "original_story = replace_template(word_to_replace, original_story)\n",
    "\n",
    "# replace name\n",
    "word_to_replace = '{name}'\n",
    "original_story = replace_template(word_to_replace, original_story)\n",
    "\n",
    "# replace verb\n",
    "word_to_replace = '{verb}'\n",
    "original_story = replace_template(word_to_replace, original_story)\n",
    "\n",
    "# replace noun\n",
    "word_to_replace = '{noun}'\n",
    "original_story = replace_template(word_to_replace, original_story)\n",
    "\n",
    "# replace adjective\n",
    "word_to_replace = '{adjective}'\n",
    "original_story = replace_template(word_to_replace, original_story)\n",
    "\n",
    "print(original_story)"
   ]
  },
  {
   "cell_type": "markdown",
   "metadata": {},
   "source": [
    "## Breakout Session: Save your new story by writing it to file!"
   ]
  },
  {
   "cell_type": "code",
   "execution_count": null,
   "metadata": {},
   "outputs": [],
   "source": [
    "#open and create a file called 'madlibs_complete.txt' in write mode\n",
    "\n",
    "\n",
    "#write your finished story to file\n",
    "\n",
    "\n",
    "\n",
    "\n"
   ]
  },
  {
   "cell_type": "markdown",
   "metadata": {},
   "source": [
    "## Advanced Challenge\n",
    "### Simplify your code by looping through the items to replace\n",
    "This will make more sense after learning for loops in Week 6 and lists in Week 7"
   ]
  },
  {
   "cell_type": "code",
   "execution_count": 29,
   "metadata": {},
   "outputs": [
    {
     "ename": "NameError",
     "evalue": "name 'original_story' is not defined",
     "output_type": "error",
     "traceback": [
      "\u001b[0;31m---------------------------------------------------------------------------\u001b[0m",
      "\u001b[0;31mNameError\u001b[0m                                 Traceback (most recent call last)",
      "Cell \u001b[0;32mIn[29], line 12\u001b[0m\n\u001b[1;32m     10\u001b[0m \u001b[38;5;66;03m# A for-loop (you don't know about for loops yet either)\u001b[39;00m\n\u001b[1;32m     11\u001b[0m \u001b[38;5;28;01mfor\u001b[39;00m word_to_replace \u001b[38;5;129;01min\u001b[39;00m templates:\n\u001b[0;32m---> 12\u001b[0m     original_story \u001b[38;5;241m=\u001b[39m replace_template(word_to_replace)\n\u001b[1;32m     14\u001b[0m \u001b[38;5;28mprint\u001b[39m(original_story)\n",
      "Cell \u001b[0;32mIn[29], line 3\u001b[0m, in \u001b[0;36mreplace_template\u001b[0;34m(word_to_replace)\u001b[0m\n\u001b[1;32m      1\u001b[0m \u001b[38;5;28;01mdef\u001b[39;00m \u001b[38;5;21mreplace_template\u001b[39m(word_to_replace):\n\u001b[1;32m      2\u001b[0m     replacer \u001b[38;5;241m=\u001b[39m \u001b[38;5;28minput\u001b[39m(\u001b[38;5;124m'\u001b[39m\u001b[38;5;124mEnter an \u001b[39m\u001b[38;5;124m'\u001b[39m \u001b[38;5;241m+\u001b[39m word_to_replace[\u001b[38;5;241m1\u001b[39m:\u001b[38;5;241m-\u001b[39m\u001b[38;5;241m1\u001b[39m] \u001b[38;5;241m+\u001b[39m \u001b[38;5;124m'\u001b[39m\u001b[38;5;124m: \u001b[39m\u001b[38;5;124m'\u001b[39m)\n\u001b[0;32m----> 3\u001b[0m     \u001b[38;5;28;01mreturn\u001b[39;00m original_story\u001b[38;5;241m.\u001b[39mreplace(word_to_replace, replacer)\n",
      "\u001b[0;31mNameError\u001b[0m: name 'original_story' is not defined"
     ]
    },
    {
     "ename": "",
     "evalue": "",
     "output_type": "error",
     "traceback": [
      "\u001b[1;31mThe Kernel crashed while executing code in the current cell or a previous cell. \n",
      "\u001b[1;31mPlease review the code in the cell(s) to identify a possible cause of the failure. \n",
      "\u001b[1;31mClick <a href='https://aka.ms/vscodeJupyterKernelCrash'>here</a> for more info. \n",
      "\u001b[1;31mView Jupyter <a href='command:jupyter.viewOutput'>log</a> for further details."
     ]
    }
   ],
   "source": [
    "def replace_template(word_to_replace):\n",
    "    replacer = input('Enter an ' + word_to_replace[1:-1] + ': ')\n",
    "    return original_story.replace(word_to_replace, replacer)\n",
    "\n",
    "# A solution with a list and a loop\n",
    "\n",
    "# A list of the words that we want to replace (you don't know about lists yet)\n",
    "templates = ['{animal}','{location}','{name}','{verb}','{noun}','{adjective}']\n",
    "\n",
    "# A for-loop (you don't know about for loops yet either)\n",
    "for word_to_replace in templates:\n",
    "    original_story = replace_template(word_to_replace)\n",
    "\n",
    "print(original_story)"
   ]
  },
  {
   "cell_type": "markdown",
   "metadata": {},
   "source": [
    "<div class=\"alert alert-block alert-info\">\n",
    "<big><b>This Lecture</b></big>\n",
    "<ul>  \n",
    " <li>Object Oriented programming: a new way to think about programs</li>  \n",
    " <li>The file object </li>  \n",
    "    <li>reading and writing files</li>\n",
    "</ul>  \n",
    "</div>"
   ]
  },
  {
   "cell_type": "markdown",
   "metadata": {},
   "source": [
    "# Execute this cell to create madlibs_starter.txt file in your working directory"
   ]
  },
  {
   "cell_type": "code",
   "execution_count": null,
   "metadata": {},
   "outputs": [],
   "source": [
    "#Execute this cell to create a madlibs_starter.txt file in your working directory\n",
    "\n",
    "madlibs_file = open('madlibs_starter.txt', 'w')\n",
    "\n",
    "madlibs_file.write('''Once upon a time, in a bustling {location} nestled between towering mountains and lush forests, there lived a young engineering student named {name}. {name} had always dreamed of embarking on a grand adventure, and one day, this wish came true.\n",
    "\n",
    "One sunny morning, {name} decided to explore the mysterious {location} that lay beyond the village. Armed with only a sturdy {noun} and a sense of curiosity, he set off into the unknown.\n",
    "\n",
    "As {name} ventured deeper into the {location}, he encountered all sorts of fascinating creatures. From playful {animal}s to majestic birds soaring overhead, the {location} was teeming with life.\n",
    "\n",
    "Suddenly, {name} stumbled upon a hidden cave nestled among the rocks. With a mixture of excitement and anxiety, they entered the dark cavern, their heart pounding with anticipation.\n",
    "\n",
    "Inside, {name} discovered a glittering treasure trove guarded by a {adjective} {animal}. With quick thinking and a brave heart, {name} managed to {verb} the creature and claim the treasure as their own.\n",
    "\n",
    "Filled with triumph, {name} returned home to the village, where they were hailed as a hero. From that day forward, they would forever be known as the bravest adventurer to ever {verb} a {animal} in the lands of {location}.''')\n",
    "\n",
    "madlibs_file.close()"
   ]
  }
 ],
 "metadata": {
  "kernelspec": {
   "display_name": "base",
   "language": "python",
   "name": "python3"
  },
  "language_info": {
   "codemirror_mode": {
    "name": "ipython",
    "version": 3
   },
   "file_extension": ".py",
   "mimetype": "text/x-python",
   "name": "python",
   "nbconvert_exporter": "python",
   "pygments_lexer": "ipython3",
   "version": "3.12.7"
  }
 },
 "nbformat": 4,
 "nbformat_minor": 4
}
