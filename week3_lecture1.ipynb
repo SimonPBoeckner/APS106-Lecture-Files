{
 "cells": [
  {
   "cell_type": "markdown",
   "metadata": {},
   "source": [
    "# APS106 Lecture Notes - Week 3, Lecture 1\n",
    "# Booleans, Conditionals, and if Statements"
   ]
  },
  {
   "cell_type": "markdown",
   "metadata": {},
   "source": [
    "## Lectures This Week\n",
    "\n",
    "\n",
    "| Lecture | Topics |\n",
    "| --- | --- |\n",
    "| **3.1** | **Booleans, conditionals, and if-statements**  |\n",
    "| 3.2 | Advanced comparisons, else & elif, nested ifs |\n",
    "| 3.3 | Engineering design problem! Rock Paper Scissors Lizard Spock! |\n",
    "\n",
    "### Lecture Structure\n",
    "1. [Introducing Booleans](#section1)\n",
    "2. [Logical Operators](#section2)\n",
    "3. [Lazy Evaluation](#section3)\n",
    "4. [The if Statement](#section4)\n"
   ]
  },
  {
   "cell_type": "markdown",
   "metadata": {},
   "source": [
    "<a id='section1'></a>\n",
    "\n",
    "## 1. Introducing Booleans\n",
    "\n",
    "So far we've seen 3 data types in Python: `int` for integers, `float` for real numbers, and `str` for strings of characters. Programming languages typically also have a data type that is dedicated to representing values of true and false. In Python this type is called `bool`. You can think of it as a strange type of variable with only possible values: True and False. Here are some examples of Boolean assignment:"
   ]
  },
  {
   "cell_type": "code",
   "execution_count": null,
   "metadata": {
    "scrolled": true
   },
   "outputs": [],
   "source": [
    "case = True #Notice I don't need quotes! It's not a string.\n",
    "print(case)"
   ]
  },
  {
   "cell_type": "code",
   "execution_count": null,
   "metadata": {},
   "outputs": [],
   "source": [
    "state = False\n",
    "print(state)\n",
    "print(type(state))"
   ]
  },
  {
   "cell_type": "code",
   "execution_count": null,
   "metadata": {},
   "outputs": [],
   "source": [
    "print(int(case))\n",
    "print(int(state))"
   ]
  },
  {
   "cell_type": "code",
   "execution_count": null,
   "metadata": {},
   "outputs": [],
   "source": [
    "state = bool(False + 1)\n",
    "print(state)\n",
    "print(type(state))"
   ]
  },
  {
   "cell_type": "markdown",
   "metadata": {},
   "source": [
    "There real power of `bool` comes when they are combined with comparison operators.\n",
    "\n",
    "**Comparison operators**\n",
    "\n",
    "Think back to the usual mathematical operators like `+`. This operator takes two numeric types (`int` or `float`) and produces a new value of a numeric type (again, `int` or `float`) depending on the types of the input values.\n",
    "\n",
    "Comparison operators (like `<`) take two values and produce a `bool` valuye. (see Gries pg. 80).\n",
    "\n",
    "| Description  | Operator | Example | Result |\n",
    "|--------------|----------|---------|--------|\n",
    "| less than    | `<`        | 3 < 4.3   | True   |\n",
    "| greater than | `>`        | 3 > 4   | False  |\n",
    "| equal to     | `==`       | 3 == 4  | False  |\n",
    "| greater than or equal to | `>=` | 3.0 >= 4 |False |\n",
    "| less than or equal to | `<=` | 3 <= 4 | True |\n",
    "| not equal to | `!=`       | 3 != 4 | True |\n",
    "\n",
    "Examples:"
   ]
  },
  {
   "cell_type": "code",
   "execution_count": null,
   "metadata": {},
   "outputs": [],
   "source": [
    "print(1 == 1) #Uses 2 equal signs, i.e. NOT doing variable assignment, but comparing"
   ]
  },
  {
   "cell_type": "code",
   "execution_count": null,
   "metadata": {},
   "outputs": [],
   "source": [
    "print(2 > 3) #These comparison operators take two operands and produce a bool"
   ]
  },
  {
   "cell_type": "code",
   "execution_count": null,
   "metadata": {},
   "outputs": [],
   "source": [
    "print(1 != 1)"
   ]
  },
  {
   "cell_type": "code",
   "execution_count": null,
   "metadata": {},
   "outputs": [],
   "source": [
    "print(2*3 == 5)"
   ]
  },
  {
   "cell_type": "code",
   "execution_count": null,
   "metadata": {},
   "outputs": [],
   "source": [
    "print(2*3 != 5)"
   ]
  },
  {
   "cell_type": "markdown",
   "metadata": {},
   "source": [
    "We can, of course, do the same comparisons with variables."
   ]
  },
  {
   "cell_type": "code",
   "execution_count": null,
   "metadata": {},
   "outputs": [],
   "source": [
    "x = 5.3\n",
    "y = 3\n",
    "print(x == y)"
   ]
  },
  {
   "cell_type": "code",
   "execution_count": null,
   "metadata": {},
   "outputs": [],
   "source": [
    "print(x > y)"
   ]
  },
  {
   "cell_type": "markdown",
   "metadata": {},
   "source": [
    "**IMPORTANT: Note the difference between `=` and `==`!**\n",
    "\n",
    "As we have seen, `=` is an assignment. You assign the value of the thing on the right-hand side (rhs) to the thing on the left-hand side (lhs)."
   ]
  },
  {
   "cell_type": "code",
   "execution_count": null,
   "metadata": {},
   "outputs": [],
   "source": [
    "x = 5\n",
    "print(x)"
   ]
  },
  {
   "cell_type": "markdown",
   "metadata": {},
   "source": [
    "`==` is a comparison. It compares the value of the thing on the rhs to the value of the thing on the lhs and returns True if they are the same and False if they are different. "
   ]
  },
  {
   "cell_type": "code",
   "execution_count": null,
   "metadata": {},
   "outputs": [],
   "source": [
    "print(x == 5)"
   ]
  },
  {
   "cell_type": "code",
   "execution_count": null,
   "metadata": {},
   "outputs": [],
   "source": [
    "print(x == 3)"
   ]
  },
  {
   "cell_type": "code",
   "execution_count": null,
   "metadata": {},
   "outputs": [],
   "source": [
    "print(x)"
   ]
  },
  {
   "cell_type": "markdown",
   "metadata": {},
   "source": [
    "<a id='section2'></a>\n",
    "\n",
    "## 2. Logical Operators\n",
    "\n",
    "Just as numeric operators (like `+`) combine numeric types to produce numeric types, there are also three logical operators that allow us to combine Boolean values to produce Boolean values: `and`, `or`, and `not`. "
   ]
  },
  {
   "cell_type": "code",
   "execution_count": null,
   "metadata": {},
   "outputs": [],
   "source": [
    "print(not (80 >= 50))"
   ]
  },
  {
   "cell_type": "code",
   "execution_count": null,
   "metadata": {},
   "outputs": [],
   "source": [
    "print((80 >= 50) and (70 <= 50))"
   ]
  },
  {
   "cell_type": "code",
   "execution_count": null,
   "metadata": {},
   "outputs": [],
   "source": [
    "print((80 >= 50) or (70 <= 50))"
   ]
  },
  {
   "cell_type": "code",
   "execution_count": null,
   "metadata": {},
   "outputs": [],
   "source": [
    "print(4 > 5 and 2 > 1)  #Arithmetic -> Relational -> Logical Operators"
   ]
  },
  {
   "cell_type": "code",
   "execution_count": null,
   "metadata": {},
   "outputs": [],
   "source": [
    "print(4 + 1 > 5 and 2 > 1)  #What about now?"
   ]
  },
  {
   "cell_type": "code",
   "execution_count": null,
   "metadata": {},
   "outputs": [],
   "source": [
    "#what if you had 2 assignments in the course, and NEED to pass both to pass the course?\n",
    "\n",
    "grade1 = 80\n",
    "grade2 = 50\n",
    "\n",
    "passed = grade1 >= 50 and grade2 >= 50\n",
    "print(passed)"
   ]
  },
  {
   "cell_type": "markdown",
   "metadata": {},
   "source": [
    "**The `and` Logic Table**\n",
    "\n",
    "The `and` operator evaluates to `True` if and only if both of its operands are `True`.\n",
    "\n",
    "| expr1 | expr2 | expr1 `and` expr2 |\n",
    "|-------|-------|-------------------|\n",
    "| True  | True  | True |\n",
    "| True  | False | False |\n",
    "| False  | True  | False |\n",
    "| False  | False | False |\n",
    "\n",
    "**The `or` Logic Table**\n",
    "\n",
    "The `or` operator evaluates to `True` if one (or both) of its operands are `True`.\n",
    "\n",
    "| expr1 | expr2 | expr1 `or` expr2 |\n",
    "|-------|-------|-------------------|\n",
    "| True  | True  | True |\n",
    "| True  | False | True |\n",
    "| False  | True  | True |\n",
    "| False  | False | False |\n",
    "\n",
    "**The ` not` Logic Table**\n",
    "\n",
    "The `not` operator evaluates to `True` if and only if its operand is `False`.\n",
    "\n",
    "| expr1 | `not` expr1 |\n",
    "|-------|-------------------|\n",
    "| True  | False |\n",
    "| False  | True |\n",
    "\n",
    "**Examples**"
   ]
  },
  {
   "cell_type": "code",
   "execution_count": null,
   "metadata": {},
   "outputs": [],
   "source": [
    "print(True and True)"
   ]
  },
  {
   "cell_type": "code",
   "execution_count": null,
   "metadata": {},
   "outputs": [],
   "source": [
    "print(True and False)"
   ]
  },
  {
   "cell_type": "code",
   "execution_count": null,
   "metadata": {},
   "outputs": [],
   "source": [
    "print(False or True)"
   ]
  },
  {
   "cell_type": "code",
   "execution_count": null,
   "metadata": {},
   "outputs": [],
   "source": [
    "print(False or not True)  #not is highest in precedence"
   ]
  },
  {
   "cell_type": "code",
   "execution_count": null,
   "metadata": {
    "scrolled": true
   },
   "outputs": [],
   "source": [
    "print(False or not not not not not True) # this is a very bad idea"
   ]
  },
  {
   "cell_type": "markdown",
   "metadata": {},
   "source": [
    "Using multiple combinations of `not` operators may be valid, but will lead to confusion and should be avoided. Whenever you can try to make your code readable.\n",
    "\n",
    "What is the result of the following?"
   ]
  },
  {
   "cell_type": "code",
   "execution_count": null,
   "metadata": {
    "scrolled": true
   },
   "outputs": [],
   "source": [
    "print(0 > 5 or \"t\" > \"a\" and 'c' != 'd')  #We'll get into why \"t\" > \"a\" next class"
   ]
  },
  {
   "cell_type": "code",
   "execution_count": null,
   "metadata": {},
   "outputs": [],
   "source": [
    "print(10 < 9 and \"t\" > \"a\" or not 'c' == 'd') #not has highest logical operator precedence"
   ]
  },
  {
   "cell_type": "code",
   "execution_count": null,
   "metadata": {},
   "outputs": [],
   "source": [
    "print((10 < 9 and \"t\" > \"a\") or not \"c\" == \"d\") #not -> and -> or, equivalent to above"
   ]
  },
  {
   "cell_type": "markdown",
   "metadata": {},
   "source": [
    "The relevant issue is not why the code gives the result it does by what the programmer actually meant in writing such code.\n",
    "\n",
    "It is always a good idea to use parentheses for clarity - even if they are not needed for correctness.\n",
    "\n",
    "**Order of Precedence for Logical Operators**\n",
    "\n",
    "The order of precedence for logical operators is: `not`, `and`, then `or`.\n",
    "\n",
    "We can override precedence using parentheses and parentheses can also be added to make things easier to read and understand.\n",
    "For example, the `not` operator is applied before the `or` operator in the following code."
   ]
  },
  {
   "cell_type": "code",
   "execution_count": null,
   "metadata": {},
   "outputs": [],
   "source": [
    "grade = 80\n",
    "grade2 = 90\n",
    "print(not grade >= 50 or grade2 >= 50)"
   ]
  },
  {
   "cell_type": "markdown",
   "metadata": {},
   "source": [
    "Parentheses make the intention clear."
   ]
  },
  {
   "cell_type": "code",
   "execution_count": null,
   "metadata": {},
   "outputs": [],
   "source": [
    "print((not grade >= 50) or (grade2 >= 50))"
   ]
  },
  {
   "cell_type": "markdown",
   "metadata": {},
   "source": [
    "Alternatively, parentheses can be added to change the order of operations and therefore the meaning of the statement:"
   ]
  },
  {
   "cell_type": "code",
   "execution_count": null,
   "metadata": {},
   "outputs": [],
   "source": [
    "print(not ((grade >= 50) or (grade2 >= 50)))"
   ]
  },
  {
   "cell_type": "markdown",
   "metadata": {},
   "source": [
    "<a id='section3'></a>\n",
    "\n",
    "## 3. Lazy Evaluation\n",
    "\n",
    "The `or` operator evaluates to True if and only if at least one operand is True. So if the first operand is True, it is unnecessary to look at the second operand: it is already known that the expression will produce True.\n",
    "\n",
    "And this is what Python does. If the first operand of `or` evaluates to True, it doesn't even look at the second one.\n",
    "\n",
    "To demonstrate this, we can create a function that will print, “function called” and return False. If the portion after the or operator is evaluated, we should see the output, “function called”. "
   ]
  },
  {
   "cell_type": "code",
   "execution_count": null,
   "metadata": {},
   "outputs": [],
   "source": [
    "def func():\n",
    "    '''\n",
    "    (None) -> bool\n",
    "    '''\n",
    "    print(\"function called\")\n",
    "    return False"
   ]
  },
  {
   "cell_type": "code",
   "execution_count": null,
   "metadata": {},
   "outputs": [],
   "source": [
    "print(True and func())"
   ]
  },
  {
   "cell_type": "code",
   "execution_count": null,
   "metadata": {},
   "outputs": [],
   "source": [
    "print(True or func()) "
   ]
  },
  {
   "cell_type": "markdown",
   "metadata": {},
   "source": [
    "Wait a second! How can you do `True or func()`? What the heck does that mean?\n",
    "\n",
    "Just like with numbers, booleans and boolean operators are expressions. And so the rules you know about evaluating expressions apply here. Before `print()` is called the expression in the parenthesis is evaluated. That means the `or` operator is evaluated. And `or` is evaluated by first evaluating the first operand (the `True`) and then, **only if necessary**, evaluating the second operand (the `func()`).\n",
    "\n",
    "Abover `func()` is not evaluated due to lazy evaluation: if the first operand of an `or` evaluates to `True` evaluation stops."
   ]
  },
  {
   "cell_type": "code",
   "execution_count": null,
   "metadata": {},
   "outputs": [],
   "source": [
    "print(False or func())"
   ]
  },
  {
   "cell_type": "code",
   "execution_count": null,
   "metadata": {},
   "outputs": [],
   "source": [
    "print(func() or True)"
   ]
  },
  {
   "cell_type": "code",
   "execution_count": null,
   "metadata": {},
   "outputs": [],
   "source": [
    "print(func() or False)"
   ]
  },
  {
   "cell_type": "markdown",
   "metadata": {},
   "source": [
    "Please stop and think about this for a moment. Do you understand why you get the output above?\n",
    "\n",
    "The `and` operator produces True if and only if both expressions are True. So if the first operand is False, the second operand doesn't matter **and will not even be checked**: it is already known that the expression will be False.\n",
    "\n",
    "Examples:"
   ]
  },
  {
   "cell_type": "code",
   "execution_count": null,
   "metadata": {},
   "outputs": [],
   "source": [
    "print(False and func())"
   ]
  },
  {
   "cell_type": "code",
   "execution_count": null,
   "metadata": {},
   "outputs": [],
   "source": [
    "print(True and func())"
   ]
  },
  {
   "cell_type": "markdown",
   "metadata": {},
   "source": [
    "This is something you need to know. But it can also be useful in your code.\n",
    "\n",
    "Imagine you have a condition that you want to evaluate to True of x >= 2 and x/y > 2. This is pretty easy to write."
   ]
  },
  {
   "cell_type": "code",
   "execution_count": null,
   "metadata": {},
   "outputs": [],
   "source": [
    "x = 4\n",
    "y = 1\n",
    "print((x >= 2) and (x/y > 2))"
   ]
  },
  {
   "cell_type": "markdown",
   "metadata": {},
   "source": [
    "OK. But what if y could be zero?"
   ]
  },
  {
   "cell_type": "code",
   "execution_count": null,
   "metadata": {},
   "outputs": [],
   "source": [
    "x = 4\n",
    "y = 0\n",
    "print((x >= 2) and (x/y > 2))"
   ]
  },
  {
   "cell_type": "markdown",
   "metadata": {},
   "source": [
    "We need to check for this case (and do whatever the right thing is). An easy way to do so is to exploit lazy evaluation.\n"
   ]
  },
  {
   "cell_type": "code",
   "execution_count": null,
   "metadata": {},
   "outputs": [],
   "source": [
    "x = 4\n",
    "y = 0\n",
    "print((x >=2) and (y != 0) and (x/y > 2))"
   ]
  },
  {
   "cell_type": "code",
   "execution_count": null,
   "metadata": {},
   "outputs": [],
   "source": [
    "x = 4\n",
    "y = 0\n",
    "print((x >=2) and (x/y > 2) and (y != 0))"
   ]
  },
  {
   "cell_type": "markdown",
   "metadata": {},
   "source": [
    "**`bool` is a Subtype of `int`**\n",
    "\n",
    "`bool` is also a subtype of `int`, where True == 1 and False == 0. What happens when you enter the following code?"
   ]
  },
  {
   "cell_type": "code",
   "execution_count": null,
   "metadata": {
    "scrolled": true
   },
   "outputs": [],
   "source": [
    "print(True + 1)"
   ]
  },
  {
   "cell_type": "code",
   "execution_count": null,
   "metadata": {
    "scrolled": true
   },
   "outputs": [],
   "source": [
    "print(False - 1)"
   ]
  },
  {
   "cell_type": "code",
   "execution_count": null,
   "metadata": {
    "scrolled": true
   },
   "outputs": [],
   "source": [
    "print((False + 3) * 4 - True)"
   ]
  },
  {
   "cell_type": "markdown",
   "metadata": {},
   "source": [
    "<a id='section4'></a>\n",
    "\n",
    "## 4. The `if` Statement\n",
    "\n",
    "So what can we do with booleans? They are at the core of the first important “control structure” we will study in programming. Rather than having to execute a sequence of statements, like we’ve been doing so far, we can use the booleans and comparison operators to decide which statements to execute.\n",
    "\n",
    "Imagine you are writing code to control a self-driving car. One standard desire is to keep the car going at the speed that has been set by the driver. Depending on if you are going up a hill, down a hill, or on a flat stretch of road, you may have to decide to provide more acceleration or to brake. In pseudocode this could look something like:\n",
    "\n",
    "- Get current speed\n",
    "- If current speed is above the set speed: brake\n",
    "- If current speed is below the set speed: accelerate\n",
    "\n",
    "This can be translated almost directly into Python."
   ]
  },
  {
   "cell_type": "code",
   "execution_count": null,
   "metadata": {
    "scrolled": true
   },
   "outputs": [],
   "source": [
    "#possible code for a self-driving car\n",
    "\n",
    "current_speed = get_current_speed() #getting the current speed from some function\n",
    "set_speed = get_set_speed() #getting the intended set speed from some function\n",
    "\n",
    "if current_speed > set_speed:\n",
    "    brake()\n",
    "\n",
    "if current_speed < set_speed:\n",
    "    accelerate()\n",
    "    "
   ]
  },
  {
   "cell_type": "markdown",
   "metadata": {},
   "source": [
    "(Of course, you need to implement the functions `get_current_speed`, `get_set_speed`, `brake`, and `accelerate`.)\n",
    "\n",
    "`if` statements can be used to control which instructions are executed by creating a “branch” in the code. The `if` statement evaluates a Boolean expression, and if it is True, then it runs the code under it, otherwise it skips it. A simple general form of an if statement is as follows:\n",
    "\n",
    "```\n",
    "if condition:\n",
    "    block\n",
    "``` \n",
    "\n",
    "`if` statements are always followed by a colon (:), this is how Python knows you are going to create a new block of code. Indenting four spaces tells Python what lines of code are in that block. You must indent a block!! A block can contain any number of lines and they all must be indented.\n",
    "\n",
    "Another example."
   ]
  },
  {
   "cell_type": "code",
   "execution_count": null,
   "metadata": {},
   "outputs": [],
   "source": [
    "#try to determine what this prints before running the cell\n",
    "\n",
    "people = 20\n",
    "cats = 30\n",
    "dogs = 15\n",
    "\n",
    "if people < cats:\n",
    "    print(\"Too many cats! The world is doomed!\")\n",
    "\n",
    "if people >= cats:\n",
    "    print(\"Not many cats! The world is saved!\")\n",
    "\n",
    "if people < dogs:\n",
    "    print(\"The world is drooled on!\")\n",
    "\n",
    "if people >= dogs:\n",
    "    print(\"The world is dry!\")\n"
   ]
  },
  {
   "cell_type": "markdown",
   "metadata": {},
   "source": [
    "In the above example, we have two `if` statements that are logically related. That is, the last two if-statements cannot both be true because the number of people will never be both less than and greater than or equal to the number of dogs. Thus, we can merge if statements using  else. (Same with the fist two if-statements).\n",
    "\n",
    "We can re-write the example as follows."
   ]
  },
  {
   "cell_type": "code",
   "execution_count": null,
   "metadata": {},
   "outputs": [],
   "source": [
    "people = 20\n",
    "cats = 30\n",
    "dogs = 15\n",
    "\n",
    "if people < cats:\n",
    "    print(\"Too many cats! The world is doomed!\")\n",
    "else:\n",
    "    print(\"Not many cats! The world is saved!\")\n",
    "\n",
    "if people < dogs:\n",
    "    print(\"The world is drooled on!\")\n",
    "else:\n",
    "    print(\"The world is dry!\")"
   ]
  },
  {
   "cell_type": "markdown",
   "metadata": {},
   "source": [
    "The general form of an if-else is:\n",
    "```\n",
    "if condition:\n",
    "    block1\n",
    "else:\n",
    "    block2\n",
    "```\n",
    "\n",
    "Exactly one of block1 and block2 will be executed. **Note that the colons and indentation are required!**"
   ]
  },
  {
   "cell_type": "markdown",
   "metadata": {},
   "source": [
    "# Breakout Session\n",
    "## Determining Voter Eligibility\n",
    "\n",
    "Complete the function below that checks a person's voting eligibility.  In Canada, the voting age is 18 years and older, and voters must have Canadian citizenship.\n",
    "\n",
    "The function takes in an integer (representing their age) and a boolean (True if they are a Canadian citizen, False otherwise), and returns a string.  \n",
    "\n",
    "The return string should contain a meaningful message describing if the person is eligible to vote or not."
   ]
  },
  {
   "cell_type": "code",
   "execution_count": null,
   "metadata": {},
   "outputs": [],
   "source": [
    "def check_voting_eligibility(age, citizenship):\n",
    "    '''\n",
    "    (int, bool) -> str\n",
    "    Takes in an int representing an age, and bool representing citizenship.\n",
    "    Returns a string that describes the person's voting eligibility\n",
    "    Assume the voting age is 18 and older.\n",
    "    '''\n",
    "    \n",
    "    if (age >= 18) and (citizenship == True)\n",
    "        return \"Voter\"\n",
    "    else:\n",
    "        return \"Not a voter\"\n"
   ]
  },
  {
   "cell_type": "code",
   "execution_count": null,
   "metadata": {},
   "outputs": [],
   "source": [
    "print(check_voting_eligibility(20, True))"
   ]
  },
  {
   "cell_type": "markdown",
   "metadata": {},
   "source": [
    "### Checking if a Variable is Within a Range\n",
    "\n",
    "In math it is not uncommon to write something like $0 < x < 10$ to mean that $x$ is between 0 and 10 (not including the end points). You typically cannot do this in programming languages.\n",
    "\n",
    "**But in Python you can!**"
   ]
  },
  {
   "cell_type": "code",
   "execution_count": null,
   "metadata": {},
   "outputs": [],
   "source": [
    "x = 3\n",
    "\n",
    "if 0 < x < 10:\n",
    "    print(x, \"is between 0 and 10\")\n",
    "    \n",
    "if 10 > x > 1:\n",
    "    print(x, \"is between 10 and 1\")\n",
    "    \n",
    "if 0 <= x <= 3:\n",
    "    print(x, \"is between 0 and 3 inclusive\")\n",
    "\n",
    "if -3 <= x < 0:\n",
    "    print(x, \"is in the interval [-3, 0) inclusive\")\n",
    "else: \n",
    "    print(\"or not\")"
   ]
  },
  {
   "cell_type": "markdown",
   "metadata": {},
   "source": [
    "<div class=\"alert alert-block alert-info\">\n",
    "<big><b>This Lecture</b></big>\n",
    "    \n",
    "\n",
    "<ul>  \n",
    " <li>the bool data type</li>  \n",
    "    <li>comparison operators (<, <=, ...)</li>\n",
    "    <li>logical operators: not, and, or</li>\n",
    "    <li>lazy evaluation</li>\n",
    "    <li>if and if/else</li>  \n",
    "</ul>  \n",
    "    \n",
    "Whew! That was a lot because each concept built on the one before. This is a characteristics of learning programming and so it is important not to fall behind.\n",
    "</div>\n"
   ]
  },
  {
   "cell_type": "code",
   "execution_count": null,
   "metadata": {},
   "outputs": [],
   "source": []
  }
 ],
 "metadata": {
  "kernelspec": {
   "display_name": "Python 3 (ipykernel)",
   "language": "python",
   "name": "python3"
  },
  "language_info": {
   "codemirror_mode": {
    "name": "ipython",
    "version": 3
   },
   "file_extension": ".py",
   "mimetype": "text/x-python",
   "name": "python",
   "nbconvert_exporter": "python",
   "pygments_lexer": "ipython3",
   "version": "3.10.9"
  }
 },
 "nbformat": 4,
 "nbformat_minor": 1
}
